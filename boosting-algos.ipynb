{
 "cells": [
  {
   "cell_type": "markdown",
   "id": "1b3c5227",
   "metadata": {
    "papermill": {
     "duration": 0.047804,
     "end_time": "2023-01-20T21:42:06.821567",
     "exception": false,
     "start_time": "2023-01-20T21:42:06.773763",
     "status": "completed"
    },
    "tags": []
   },
   "source": [
    "# All Boosting Algorithms"
   ]
  },
  {
   "cell_type": "markdown",
   "id": "5d51c25b",
   "metadata": {
    "papermill": {
     "duration": 0.04379,
     "end_time": "2023-01-20T21:42:06.910409",
     "exception": false,
     "start_time": "2023-01-20T21:42:06.866619",
     "status": "completed"
    },
    "tags": []
   },
   "source": [
    "Importing Dependencies"
   ]
  },
  {
   "cell_type": "code",
   "execution_count": 1,
   "id": "626705dc",
   "metadata": {
    "execution": {
     "iopub.execute_input": "2023-01-20T21:42:07.081718Z",
     "iopub.status.busy": "2023-01-20T21:42:07.080819Z",
     "iopub.status.idle": "2023-01-20T21:42:11.004784Z",
     "shell.execute_reply": "2023-01-20T21:42:11.005360Z",
     "shell.execute_reply.started": "2023-01-20T21:39:47.289505Z"
    },
    "papermill": {
     "duration": 4.051075,
     "end_time": "2023-01-20T21:42:11.005661",
     "exception": false,
     "start_time": "2023-01-20T21:42:06.954586",
     "status": "completed"
    },
    "tags": []
   },
   "outputs": [
    {
     "data": {
      "text/html": [
       "<style type='text/css'>\n",
       ".datatable table.frame { margin-bottom: 0; }\n",
       ".datatable table.frame thead { border-bottom: none; }\n",
       ".datatable table.frame tr.coltypes td {  color: #FFFFFF;  line-height: 6px;  padding: 0 0.5em;}\n",
       ".datatable .bool    { background: #DDDD99; }\n",
       ".datatable .object  { background: #565656; }\n",
       ".datatable .int     { background: #5D9E5D; }\n",
       ".datatable .float   { background: #4040CC; }\n",
       ".datatable .str     { background: #CC4040; }\n",
       ".datatable .time    { background: #40CC40; }\n",
       ".datatable .row_index {  background: var(--jp-border-color3);  border-right: 1px solid var(--jp-border-color0);  color: var(--jp-ui-font-color3);  font-size: 9px;}\n",
       ".datatable .frame tbody td { text-align: left; }\n",
       ".datatable .frame tr.coltypes .row_index {  background: var(--jp-border-color0);}\n",
       ".datatable th:nth-child(2) { padding-left: 12px; }\n",
       ".datatable .hellipsis {  color: var(--jp-cell-editor-border-color);}\n",
       ".datatable .vellipsis {  background: var(--jp-layout-color0);  color: var(--jp-cell-editor-border-color);}\n",
       ".datatable .na {  color: var(--jp-cell-editor-border-color);  font-size: 80%;}\n",
       ".datatable .sp {  opacity: 0.25;}\n",
       ".datatable .footer { font-size: 9px; }\n",
       ".datatable .frame_dimensions {  background: var(--jp-border-color3);  border-top: 1px solid var(--jp-border-color0);  color: var(--jp-ui-font-color3);  display: inline-block;  opacity: 0.6;  padding: 1px 10px 1px 5px;}\n",
       "</style>\n"
      ],
      "text/plain": [
       "<IPython.core.display.HTML object>"
      ]
     },
     "metadata": {},
     "output_type": "display_data"
    }
   ],
   "source": [
    "import pandas as pd\n",
    "import numpy as np\n",
    "import seaborn as sns\n",
    "from xgboost import XGBRegressor\n",
    "from sklearn.preprocessing import LabelEncoder\n",
    "from lightgbm import LGBMRegressor\n",
    "from catboost import CatBoostRegressor, Pool\n",
    "from sklearn.metrics import roc_auc_score\n",
    "from sklearn.model_selection import train_test_split"
   ]
  },
  {
   "cell_type": "markdown",
   "id": "27e601eb",
   "metadata": {
    "papermill": {
     "duration": 0.045607,
     "end_time": "2023-01-20T21:42:11.099048",
     "exception": false,
     "start_time": "2023-01-20T21:42:11.053441",
     "status": "completed"
    },
    "tags": []
   },
   "source": [
    "Reading Our CSV Data"
   ]
  },
  {
   "cell_type": "code",
   "execution_count": 2,
   "id": "bfc76023",
   "metadata": {
    "execution": {
     "iopub.execute_input": "2023-01-20T21:42:11.194932Z",
     "iopub.status.busy": "2023-01-20T21:42:11.194308Z",
     "iopub.status.idle": "2023-01-20T21:42:11.250785Z",
     "shell.execute_reply": "2023-01-20T21:42:11.251244Z",
     "shell.execute_reply.started": "2023-01-20T21:39:53.298660Z"
    },
    "papermill": {
     "duration": 0.106562,
     "end_time": "2023-01-20T21:42:11.251440",
     "exception": false,
     "start_time": "2023-01-20T21:42:11.144878",
     "status": "completed"
    },
    "tags": []
   },
   "outputs": [],
   "source": [
    "original = pd.read_csv(\"/kaggle/input/ibm-hr-analytics-attrition-dataset/WA_Fn-UseC_-HR-Employee-Attrition.csv\")\n",
    "train = pd.read_csv(\"/kaggle/input/playground-series-s3e3/train.csv\")\n",
    "test = pd.read_csv(\"/kaggle/input/playground-series-s3e3/test.csv\")"
   ]
  },
  {
   "cell_type": "markdown",
   "id": "bf9b5b07",
   "metadata": {
    "papermill": {
     "duration": 0.046681,
     "end_time": "2023-01-20T21:42:11.342092",
     "exception": false,
     "start_time": "2023-01-20T21:42:11.295411",
     "status": "completed"
    },
    "tags": []
   },
   "source": [
    "# Analyzing Data"
   ]
  },
  {
   "cell_type": "markdown",
   "id": "b5a44e30",
   "metadata": {
    "papermill": {
     "duration": 0.046011,
     "end_time": "2023-01-20T21:42:11.433180",
     "exception": false,
     "start_time": "2023-01-20T21:42:11.387169",
     "status": "completed"
    },
    "tags": []
   },
   "source": [
    "Mapping Data Correctly"
   ]
  },
  {
   "cell_type": "code",
   "execution_count": 3,
   "id": "60156cd4",
   "metadata": {
    "execution": {
     "iopub.execute_input": "2023-01-20T21:42:11.538507Z",
     "iopub.status.busy": "2023-01-20T21:42:11.537534Z",
     "iopub.status.idle": "2023-01-20T21:42:11.539837Z",
     "shell.execute_reply": "2023-01-20T21:42:11.540262Z",
     "shell.execute_reply.started": "2023-01-20T21:39:53.485472Z"
    },
    "papermill": {
     "duration": 0.060179,
     "end_time": "2023-01-20T21:42:11.540424",
     "exception": false,
     "start_time": "2023-01-20T21:42:11.480245",
     "status": "completed"
    },
    "tags": []
   },
   "outputs": [],
   "source": [
    "original[\"Attrition\"] = original[\"Attrition\"].map({\"Yes\": 1, \"No\": 0})"
   ]
  },
  {
   "cell_type": "code",
   "execution_count": 4,
   "id": "d0ea5797",
   "metadata": {
    "execution": {
     "iopub.execute_input": "2023-01-20T21:42:11.642492Z",
     "iopub.status.busy": "2023-01-20T21:42:11.641527Z",
     "iopub.status.idle": "2023-01-20T21:42:11.645835Z",
     "shell.execute_reply": "2023-01-20T21:42:11.645366Z",
     "shell.execute_reply.started": "2023-01-20T21:39:53.502204Z"
    },
    "papermill": {
     "duration": 0.058916,
     "end_time": "2023-01-20T21:42:11.645965",
     "exception": false,
     "start_time": "2023-01-20T21:42:11.587049",
     "status": "completed"
    },
    "tags": []
   },
   "outputs": [],
   "source": [
    "train = train.drop([\"id\"], axis = 1)\n",
    "test = test.drop([\"id\"], axis = 1)\n",
    "original = original.drop([\"EmployeeNumber\"], axis = 1)"
   ]
  },
  {
   "cell_type": "code",
   "execution_count": 5,
   "id": "a142e96c",
   "metadata": {
    "execution": {
     "iopub.execute_input": "2023-01-20T21:42:11.742227Z",
     "iopub.status.busy": "2023-01-20T21:42:11.741374Z",
     "iopub.status.idle": "2023-01-20T21:42:11.758705Z",
     "shell.execute_reply": "2023-01-20T21:42:11.757867Z",
     "shell.execute_reply.started": "2023-01-20T21:39:53.518298Z"
    },
    "papermill": {
     "duration": 0.067674,
     "end_time": "2023-01-20T21:42:11.758883",
     "exception": false,
     "start_time": "2023-01-20T21:42:11.691209",
     "status": "completed"
    },
    "tags": []
   },
   "outputs": [
    {
     "name": "stdout",
     "output_type": "stream",
     "text": [
      "<class 'pandas.core.frame.DataFrame'>\n",
      "RangeIndex: 1470 entries, 0 to 1469\n",
      "Data columns (total 34 columns):\n",
      " #   Column                    Non-Null Count  Dtype \n",
      "---  ------                    --------------  ----- \n",
      " 0   Age                       1470 non-null   int64 \n",
      " 1   Attrition                 1470 non-null   int64 \n",
      " 2   BusinessTravel            1470 non-null   object\n",
      " 3   DailyRate                 1470 non-null   int64 \n",
      " 4   Department                1470 non-null   object\n",
      " 5   DistanceFromHome          1470 non-null   int64 \n",
      " 6   Education                 1470 non-null   int64 \n",
      " 7   EducationField            1470 non-null   object\n",
      " 8   EmployeeCount             1470 non-null   int64 \n",
      " 9   EnvironmentSatisfaction   1470 non-null   int64 \n",
      " 10  Gender                    1470 non-null   object\n",
      " 11  HourlyRate                1470 non-null   int64 \n",
      " 12  JobInvolvement            1470 non-null   int64 \n",
      " 13  JobLevel                  1470 non-null   int64 \n",
      " 14  JobRole                   1470 non-null   object\n",
      " 15  JobSatisfaction           1470 non-null   int64 \n",
      " 16  MaritalStatus             1470 non-null   object\n",
      " 17  MonthlyIncome             1470 non-null   int64 \n",
      " 18  MonthlyRate               1470 non-null   int64 \n",
      " 19  NumCompaniesWorked        1470 non-null   int64 \n",
      " 20  Over18                    1470 non-null   object\n",
      " 21  OverTime                  1470 non-null   object\n",
      " 22  PercentSalaryHike         1470 non-null   int64 \n",
      " 23  PerformanceRating         1470 non-null   int64 \n",
      " 24  RelationshipSatisfaction  1470 non-null   int64 \n",
      " 25  StandardHours             1470 non-null   int64 \n",
      " 26  StockOptionLevel          1470 non-null   int64 \n",
      " 27  TotalWorkingYears         1470 non-null   int64 \n",
      " 28  TrainingTimesLastYear     1470 non-null   int64 \n",
      " 29  WorkLifeBalance           1470 non-null   int64 \n",
      " 30  YearsAtCompany            1470 non-null   int64 \n",
      " 31  YearsInCurrentRole        1470 non-null   int64 \n",
      " 32  YearsSinceLastPromotion   1470 non-null   int64 \n",
      " 33  YearsWithCurrManager      1470 non-null   int64 \n",
      "dtypes: int64(26), object(8)\n",
      "memory usage: 390.6+ KB\n"
     ]
    }
   ],
   "source": [
    "original.info()"
   ]
  },
  {
   "cell_type": "code",
   "execution_count": 6,
   "id": "be3efd4f",
   "metadata": {
    "execution": {
     "iopub.execute_input": "2023-01-20T21:42:11.879481Z",
     "iopub.status.busy": "2023-01-20T21:42:11.866208Z",
     "iopub.status.idle": "2023-01-20T21:42:11.883968Z",
     "shell.execute_reply": "2023-01-20T21:42:11.885540Z",
     "shell.execute_reply.started": "2023-01-20T21:39:53.542578Z"
    },
    "papermill": {
     "duration": 0.07171,
     "end_time": "2023-01-20T21:42:11.885783",
     "exception": false,
     "start_time": "2023-01-20T21:42:11.814073",
     "status": "completed"
    },
    "tags": []
   },
   "outputs": [
    {
     "name": "stdout",
     "output_type": "stream",
     "text": [
      "<class 'pandas.core.frame.DataFrame'>\n",
      "RangeIndex: 1677 entries, 0 to 1676\n",
      "Data columns (total 34 columns):\n",
      " #   Column                    Non-Null Count  Dtype \n",
      "---  ------                    --------------  ----- \n",
      " 0   Age                       1677 non-null   int64 \n",
      " 1   BusinessTravel            1677 non-null   object\n",
      " 2   DailyRate                 1677 non-null   int64 \n",
      " 3   Department                1677 non-null   object\n",
      " 4   DistanceFromHome          1677 non-null   int64 \n",
      " 5   Education                 1677 non-null   int64 \n",
      " 6   EducationField            1677 non-null   object\n",
      " 7   EmployeeCount             1677 non-null   int64 \n",
      " 8   EnvironmentSatisfaction   1677 non-null   int64 \n",
      " 9   Gender                    1677 non-null   object\n",
      " 10  HourlyRate                1677 non-null   int64 \n",
      " 11  JobInvolvement            1677 non-null   int64 \n",
      " 12  JobLevel                  1677 non-null   int64 \n",
      " 13  JobRole                   1677 non-null   object\n",
      " 14  JobSatisfaction           1677 non-null   int64 \n",
      " 15  MaritalStatus             1677 non-null   object\n",
      " 16  MonthlyIncome             1677 non-null   int64 \n",
      " 17  MonthlyRate               1677 non-null   int64 \n",
      " 18  NumCompaniesWorked        1677 non-null   int64 \n",
      " 19  Over18                    1677 non-null   object\n",
      " 20  OverTime                  1677 non-null   object\n",
      " 21  PercentSalaryHike         1677 non-null   int64 \n",
      " 22  PerformanceRating         1677 non-null   int64 \n",
      " 23  RelationshipSatisfaction  1677 non-null   int64 \n",
      " 24  StandardHours             1677 non-null   int64 \n",
      " 25  StockOptionLevel          1677 non-null   int64 \n",
      " 26  TotalWorkingYears         1677 non-null   int64 \n",
      " 27  TrainingTimesLastYear     1677 non-null   int64 \n",
      " 28  WorkLifeBalance           1677 non-null   int64 \n",
      " 29  YearsAtCompany            1677 non-null   int64 \n",
      " 30  YearsInCurrentRole        1677 non-null   int64 \n",
      " 31  YearsSinceLastPromotion   1677 non-null   int64 \n",
      " 32  YearsWithCurrManager      1677 non-null   int64 \n",
      " 33  Attrition                 1677 non-null   int64 \n",
      "dtypes: int64(26), object(8)\n",
      "memory usage: 445.6+ KB\n"
     ]
    }
   ],
   "source": [
    "train.info()"
   ]
  },
  {
   "cell_type": "markdown",
   "id": "1605769c",
   "metadata": {
    "papermill": {
     "duration": 0.046764,
     "end_time": "2023-01-20T21:42:11.983200",
     "exception": false,
     "start_time": "2023-01-20T21:42:11.936436",
     "status": "completed"
    },
    "tags": []
   },
   "source": [
    "Both Original and Train csv match now, So we can Concatenate"
   ]
  },
  {
   "cell_type": "code",
   "execution_count": 7,
   "id": "b7f62259",
   "metadata": {
    "execution": {
     "iopub.execute_input": "2023-01-20T21:42:12.084407Z",
     "iopub.status.busy": "2023-01-20T21:42:12.083607Z",
     "iopub.status.idle": "2023-01-20T21:42:12.091634Z",
     "shell.execute_reply": "2023-01-20T21:42:12.091157Z",
     "shell.execute_reply.started": "2023-01-20T21:39:53.561709Z"
    },
    "papermill": {
     "duration": 0.062708,
     "end_time": "2023-01-20T21:42:12.091769",
     "exception": false,
     "start_time": "2023-01-20T21:42:12.029061",
     "status": "completed"
    },
    "tags": []
   },
   "outputs": [],
   "source": [
    "train = pd.concat([train, original], axis = 0)"
   ]
  },
  {
   "cell_type": "code",
   "execution_count": 8,
   "id": "e4365d9c",
   "metadata": {
    "execution": {
     "iopub.execute_input": "2023-01-20T21:42:12.189785Z",
     "iopub.status.busy": "2023-01-20T21:42:12.188785Z",
     "iopub.status.idle": "2023-01-20T21:42:12.195773Z",
     "shell.execute_reply": "2023-01-20T21:42:12.195322Z",
     "shell.execute_reply.started": "2023-01-20T21:39:53.579376Z"
    },
    "papermill": {
     "duration": 0.057223,
     "end_time": "2023-01-20T21:42:12.195889",
     "exception": false,
     "start_time": "2023-01-20T21:42:12.138666",
     "status": "completed"
    },
    "tags": []
   },
   "outputs": [],
   "source": [
    "train.reset_index(inplace = True)\n",
    "train = train.drop([\"index\"], axis = 1)"
   ]
  },
  {
   "cell_type": "code",
   "execution_count": 9,
   "id": "0f5d8cbb",
   "metadata": {
    "execution": {
     "iopub.execute_input": "2023-01-20T21:42:12.293261Z",
     "iopub.status.busy": "2023-01-20T21:42:12.292439Z",
     "iopub.status.idle": "2023-01-20T21:42:12.371578Z",
     "shell.execute_reply": "2023-01-20T21:42:12.372064Z",
     "shell.execute_reply.started": "2023-01-20T21:39:53.594772Z"
    },
    "papermill": {
     "duration": 0.131153,
     "end_time": "2023-01-20T21:42:12.372227",
     "exception": false,
     "start_time": "2023-01-20T21:42:12.241074",
     "status": "completed"
    },
    "tags": []
   },
   "outputs": [
    {
     "data": {
      "text/html": [
       "<div>\n",
       "<style scoped>\n",
       "    .dataframe tbody tr th:only-of-type {\n",
       "        vertical-align: middle;\n",
       "    }\n",
       "\n",
       "    .dataframe tbody tr th {\n",
       "        vertical-align: top;\n",
       "    }\n",
       "\n",
       "    .dataframe thead th {\n",
       "        text-align: right;\n",
       "    }\n",
       "</style>\n",
       "<table border=\"1\" class=\"dataframe\">\n",
       "  <thead>\n",
       "    <tr style=\"text-align: right;\">\n",
       "      <th></th>\n",
       "      <th>Age</th>\n",
       "      <th>DailyRate</th>\n",
       "      <th>DistanceFromHome</th>\n",
       "      <th>Education</th>\n",
       "      <th>EmployeeCount</th>\n",
       "      <th>EnvironmentSatisfaction</th>\n",
       "      <th>HourlyRate</th>\n",
       "      <th>JobInvolvement</th>\n",
       "      <th>JobLevel</th>\n",
       "      <th>JobSatisfaction</th>\n",
       "      <th>...</th>\n",
       "      <th>StandardHours</th>\n",
       "      <th>StockOptionLevel</th>\n",
       "      <th>TotalWorkingYears</th>\n",
       "      <th>TrainingTimesLastYear</th>\n",
       "      <th>WorkLifeBalance</th>\n",
       "      <th>YearsAtCompany</th>\n",
       "      <th>YearsInCurrentRole</th>\n",
       "      <th>YearsSinceLastPromotion</th>\n",
       "      <th>YearsWithCurrManager</th>\n",
       "      <th>Attrition</th>\n",
       "    </tr>\n",
       "  </thead>\n",
       "  <tbody>\n",
       "    <tr>\n",
       "      <th>count</th>\n",
       "      <td>3147.000000</td>\n",
       "      <td>3147.000000</td>\n",
       "      <td>3147.000000</td>\n",
       "      <td>3147.000000</td>\n",
       "      <td>3147.0</td>\n",
       "      <td>3147.000000</td>\n",
       "      <td>3147.000000</td>\n",
       "      <td>3147.000000</td>\n",
       "      <td>3147.000000</td>\n",
       "      <td>3147.000000</td>\n",
       "      <td>...</td>\n",
       "      <td>3147.0</td>\n",
       "      <td>3147.000000</td>\n",
       "      <td>3147.000000</td>\n",
       "      <td>3147.000000</td>\n",
       "      <td>3147.000000</td>\n",
       "      <td>3147.000000</td>\n",
       "      <td>3147.000000</td>\n",
       "      <td>3147.000000</td>\n",
       "      <td>3147.000000</td>\n",
       "      <td>3147.000000</td>\n",
       "    </tr>\n",
       "    <tr>\n",
       "      <th>mean</th>\n",
       "      <td>36.451223</td>\n",
       "      <td>850.586273</td>\n",
       "      <td>8.921513</td>\n",
       "      <td>2.926279</td>\n",
       "      <td>1.0</td>\n",
       "      <td>2.741023</td>\n",
       "      <td>66.907531</td>\n",
       "      <td>2.757865</td>\n",
       "      <td>2.029234</td>\n",
       "      <td>2.762313</td>\n",
       "      <td>...</td>\n",
       "      <td>80.0</td>\n",
       "      <td>0.755323</td>\n",
       "      <td>10.975850</td>\n",
       "      <td>2.763902</td>\n",
       "      <td>2.765809</td>\n",
       "      <td>6.900858</td>\n",
       "      <td>4.183985</td>\n",
       "      <td>2.076263</td>\n",
       "      <td>4.156975</td>\n",
       "      <td>0.138862</td>\n",
       "    </tr>\n",
       "    <tr>\n",
       "      <th>std</th>\n",
       "      <td>8.815861</td>\n",
       "      <td>390.859919</td>\n",
       "      <td>7.961278</td>\n",
       "      <td>1.032051</td>\n",
       "      <td>0.0</td>\n",
       "      <td>1.089733</td>\n",
       "      <td>19.877918</td>\n",
       "      <td>0.680183</td>\n",
       "      <td>1.094590</td>\n",
       "      <td>1.100224</td>\n",
       "      <td>...</td>\n",
       "      <td>0.0</td>\n",
       "      <td>0.810688</td>\n",
       "      <td>7.509438</td>\n",
       "      <td>1.214918</td>\n",
       "      <td>0.675707</td>\n",
       "      <td>5.998015</td>\n",
       "      <td>3.601691</td>\n",
       "      <td>3.130744</td>\n",
       "      <td>3.572003</td>\n",
       "      <td>0.345858</td>\n",
       "    </tr>\n",
       "    <tr>\n",
       "      <th>min</th>\n",
       "      <td>18.000000</td>\n",
       "      <td>102.000000</td>\n",
       "      <td>1.000000</td>\n",
       "      <td>1.000000</td>\n",
       "      <td>1.0</td>\n",
       "      <td>1.000000</td>\n",
       "      <td>30.000000</td>\n",
       "      <td>1.000000</td>\n",
       "      <td>1.000000</td>\n",
       "      <td>1.000000</td>\n",
       "      <td>...</td>\n",
       "      <td>80.0</td>\n",
       "      <td>0.000000</td>\n",
       "      <td>0.000000</td>\n",
       "      <td>0.000000</td>\n",
       "      <td>1.000000</td>\n",
       "      <td>0.000000</td>\n",
       "      <td>0.000000</td>\n",
       "      <td>0.000000</td>\n",
       "      <td>0.000000</td>\n",
       "      <td>0.000000</td>\n",
       "    </tr>\n",
       "    <tr>\n",
       "      <th>25%</th>\n",
       "      <td>30.000000</td>\n",
       "      <td>543.000000</td>\n",
       "      <td>2.000000</td>\n",
       "      <td>2.000000</td>\n",
       "      <td>1.0</td>\n",
       "      <td>2.000000</td>\n",
       "      <td>50.000000</td>\n",
       "      <td>2.000000</td>\n",
       "      <td>1.000000</td>\n",
       "      <td>2.000000</td>\n",
       "      <td>...</td>\n",
       "      <td>80.0</td>\n",
       "      <td>0.000000</td>\n",
       "      <td>6.000000</td>\n",
       "      <td>2.000000</td>\n",
       "      <td>2.000000</td>\n",
       "      <td>3.000000</td>\n",
       "      <td>2.000000</td>\n",
       "      <td>0.000000</td>\n",
       "      <td>2.000000</td>\n",
       "      <td>0.000000</td>\n",
       "    </tr>\n",
       "    <tr>\n",
       "      <th>50%</th>\n",
       "      <td>35.000000</td>\n",
       "      <td>852.000000</td>\n",
       "      <td>7.000000</td>\n",
       "      <td>3.000000</td>\n",
       "      <td>1.0</td>\n",
       "      <td>3.000000</td>\n",
       "      <td>67.000000</td>\n",
       "      <td>3.000000</td>\n",
       "      <td>2.000000</td>\n",
       "      <td>3.000000</td>\n",
       "      <td>...</td>\n",
       "      <td>80.0</td>\n",
       "      <td>1.000000</td>\n",
       "      <td>9.000000</td>\n",
       "      <td>3.000000</td>\n",
       "      <td>3.000000</td>\n",
       "      <td>5.000000</td>\n",
       "      <td>3.000000</td>\n",
       "      <td>1.000000</td>\n",
       "      <td>3.000000</td>\n",
       "      <td>0.000000</td>\n",
       "    </tr>\n",
       "    <tr>\n",
       "      <th>75%</th>\n",
       "      <td>42.000000</td>\n",
       "      <td>1198.500000</td>\n",
       "      <td>13.000000</td>\n",
       "      <td>4.000000</td>\n",
       "      <td>1.0</td>\n",
       "      <td>4.000000</td>\n",
       "      <td>84.000000</td>\n",
       "      <td>3.000000</td>\n",
       "      <td>3.000000</td>\n",
       "      <td>4.000000</td>\n",
       "      <td>...</td>\n",
       "      <td>80.0</td>\n",
       "      <td>1.000000</td>\n",
       "      <td>15.000000</td>\n",
       "      <td>3.000000</td>\n",
       "      <td>3.000000</td>\n",
       "      <td>9.000000</td>\n",
       "      <td>7.000000</td>\n",
       "      <td>2.000000</td>\n",
       "      <td>7.000000</td>\n",
       "      <td>0.000000</td>\n",
       "    </tr>\n",
       "    <tr>\n",
       "      <th>max</th>\n",
       "      <td>60.000000</td>\n",
       "      <td>3921.000000</td>\n",
       "      <td>29.000000</td>\n",
       "      <td>15.000000</td>\n",
       "      <td>1.0</td>\n",
       "      <td>4.000000</td>\n",
       "      <td>100.000000</td>\n",
       "      <td>4.000000</td>\n",
       "      <td>7.000000</td>\n",
       "      <td>4.000000</td>\n",
       "      <td>...</td>\n",
       "      <td>80.0</td>\n",
       "      <td>3.000000</td>\n",
       "      <td>41.000000</td>\n",
       "      <td>6.000000</td>\n",
       "      <td>4.000000</td>\n",
       "      <td>41.000000</td>\n",
       "      <td>18.000000</td>\n",
       "      <td>15.000000</td>\n",
       "      <td>17.000000</td>\n",
       "      <td>1.000000</td>\n",
       "    </tr>\n",
       "  </tbody>\n",
       "</table>\n",
       "<p>8 rows × 26 columns</p>\n",
       "</div>"
      ],
      "text/plain": [
       "               Age    DailyRate  DistanceFromHome    Education  EmployeeCount  \\\n",
       "count  3147.000000  3147.000000       3147.000000  3147.000000         3147.0   \n",
       "mean     36.451223   850.586273          8.921513     2.926279            1.0   \n",
       "std       8.815861   390.859919          7.961278     1.032051            0.0   \n",
       "min      18.000000   102.000000          1.000000     1.000000            1.0   \n",
       "25%      30.000000   543.000000          2.000000     2.000000            1.0   \n",
       "50%      35.000000   852.000000          7.000000     3.000000            1.0   \n",
       "75%      42.000000  1198.500000         13.000000     4.000000            1.0   \n",
       "max      60.000000  3921.000000         29.000000    15.000000            1.0   \n",
       "\n",
       "       EnvironmentSatisfaction   HourlyRate  JobInvolvement     JobLevel  \\\n",
       "count              3147.000000  3147.000000     3147.000000  3147.000000   \n",
       "mean                  2.741023    66.907531        2.757865     2.029234   \n",
       "std                   1.089733    19.877918        0.680183     1.094590   \n",
       "min                   1.000000    30.000000        1.000000     1.000000   \n",
       "25%                   2.000000    50.000000        2.000000     1.000000   \n",
       "50%                   3.000000    67.000000        3.000000     2.000000   \n",
       "75%                   4.000000    84.000000        3.000000     3.000000   \n",
       "max                   4.000000   100.000000        4.000000     7.000000   \n",
       "\n",
       "       JobSatisfaction  ...  StandardHours  StockOptionLevel  \\\n",
       "count      3147.000000  ...         3147.0       3147.000000   \n",
       "mean          2.762313  ...           80.0          0.755323   \n",
       "std           1.100224  ...            0.0          0.810688   \n",
       "min           1.000000  ...           80.0          0.000000   \n",
       "25%           2.000000  ...           80.0          0.000000   \n",
       "50%           3.000000  ...           80.0          1.000000   \n",
       "75%           4.000000  ...           80.0          1.000000   \n",
       "max           4.000000  ...           80.0          3.000000   \n",
       "\n",
       "       TotalWorkingYears  TrainingTimesLastYear  WorkLifeBalance  \\\n",
       "count        3147.000000            3147.000000      3147.000000   \n",
       "mean           10.975850               2.763902         2.765809   \n",
       "std             7.509438               1.214918         0.675707   \n",
       "min             0.000000               0.000000         1.000000   \n",
       "25%             6.000000               2.000000         2.000000   \n",
       "50%             9.000000               3.000000         3.000000   \n",
       "75%            15.000000               3.000000         3.000000   \n",
       "max            41.000000               6.000000         4.000000   \n",
       "\n",
       "       YearsAtCompany  YearsInCurrentRole  YearsSinceLastPromotion  \\\n",
       "count     3147.000000         3147.000000              3147.000000   \n",
       "mean         6.900858            4.183985                 2.076263   \n",
       "std          5.998015            3.601691                 3.130744   \n",
       "min          0.000000            0.000000                 0.000000   \n",
       "25%          3.000000            2.000000                 0.000000   \n",
       "50%          5.000000            3.000000                 1.000000   \n",
       "75%          9.000000            7.000000                 2.000000   \n",
       "max         41.000000           18.000000                15.000000   \n",
       "\n",
       "       YearsWithCurrManager    Attrition  \n",
       "count           3147.000000  3147.000000  \n",
       "mean               4.156975     0.138862  \n",
       "std                3.572003     0.345858  \n",
       "min                0.000000     0.000000  \n",
       "25%                2.000000     0.000000  \n",
       "50%                3.000000     0.000000  \n",
       "75%                7.000000     0.000000  \n",
       "max               17.000000     1.000000  \n",
       "\n",
       "[8 rows x 26 columns]"
      ]
     },
     "execution_count": 9,
     "metadata": {},
     "output_type": "execute_result"
    }
   ],
   "source": [
    "train.describe()"
   ]
  },
  {
   "cell_type": "code",
   "execution_count": 10,
   "id": "f3109a7b",
   "metadata": {
    "execution": {
     "iopub.execute_input": "2023-01-20T21:42:12.477142Z",
     "iopub.status.busy": "2023-01-20T21:42:12.476217Z",
     "iopub.status.idle": "2023-01-20T21:42:12.483154Z",
     "shell.execute_reply": "2023-01-20T21:42:12.482682Z",
     "shell.execute_reply.started": "2023-01-20T21:39:53.687375Z"
    },
    "papermill": {
     "duration": 0.060232,
     "end_time": "2023-01-20T21:42:12.483286",
     "exception": false,
     "start_time": "2023-01-20T21:42:12.423054",
     "status": "completed"
    },
    "tags": []
   },
   "outputs": [
    {
     "data": {
      "text/plain": [
       "Age                         0\n",
       "BusinessTravel              0\n",
       "DailyRate                   0\n",
       "Department                  0\n",
       "DistanceFromHome            0\n",
       "Education                   0\n",
       "EducationField              0\n",
       "EmployeeCount               0\n",
       "EnvironmentSatisfaction     0\n",
       "Gender                      0\n",
       "HourlyRate                  0\n",
       "JobInvolvement              0\n",
       "JobLevel                    0\n",
       "JobRole                     0\n",
       "JobSatisfaction             0\n",
       "MaritalStatus               0\n",
       "MonthlyIncome               0\n",
       "MonthlyRate                 0\n",
       "NumCompaniesWorked          0\n",
       "Over18                      0\n",
       "OverTime                    0\n",
       "PercentSalaryHike           0\n",
       "PerformanceRating           0\n",
       "RelationshipSatisfaction    0\n",
       "StandardHours               0\n",
       "StockOptionLevel            0\n",
       "TotalWorkingYears           0\n",
       "TrainingTimesLastYear       0\n",
       "WorkLifeBalance             0\n",
       "YearsAtCompany              0\n",
       "YearsInCurrentRole          0\n",
       "YearsSinceLastPromotion     0\n",
       "YearsWithCurrManager        0\n",
       "Attrition                   0\n",
       "dtype: int64"
      ]
     },
     "execution_count": 10,
     "metadata": {},
     "output_type": "execute_result"
    }
   ],
   "source": [
    "train.isnull().sum()"
   ]
  },
  {
   "cell_type": "markdown",
   "id": "246020b3",
   "metadata": {
    "papermill": {
     "duration": 0.046883,
     "end_time": "2023-01-20T21:42:12.578060",
     "exception": false,
     "start_time": "2023-01-20T21:42:12.531177",
     "status": "completed"
    },
    "tags": []
   },
   "source": [
    "Preprocessing Our Data"
   ]
  },
  {
   "cell_type": "code",
   "execution_count": 11,
   "id": "581bf1c5",
   "metadata": {
    "execution": {
     "iopub.execute_input": "2023-01-20T21:42:12.679209Z",
     "iopub.status.busy": "2023-01-20T21:42:12.678209Z",
     "iopub.status.idle": "2023-01-20T21:42:12.680399Z",
     "shell.execute_reply": "2023-01-20T21:42:12.680818Z",
     "shell.execute_reply.started": "2023-01-20T21:39:53.699621Z"
    },
    "papermill": {
     "duration": 0.055849,
     "end_time": "2023-01-20T21:42:12.681006",
     "exception": false,
     "start_time": "2023-01-20T21:42:12.625157",
     "status": "completed"
    },
    "tags": []
   },
   "outputs": [],
   "source": [
    "def preprocess(df):\n",
    "    df = df.drop([\"EmployeeCount\", \"Over18\", \"StandardHours\"], axis=1)\n",
    "    df[\"OverTime\"] = df[\"OverTime\"].map({\"Yes\": 1, \"No\": 0})\n",
    "    df[\"Gender\"] = df[\"Gender\"].map({\"Male\": 1, \"Female\": 0})\n",
    "    return df"
   ]
  },
  {
   "cell_type": "code",
   "execution_count": 12,
   "id": "a9c2c704",
   "metadata": {
    "execution": {
     "iopub.execute_input": "2023-01-20T21:42:12.788820Z",
     "iopub.status.busy": "2023-01-20T21:42:12.787898Z",
     "iopub.status.idle": "2023-01-20T21:42:12.796503Z",
     "shell.execute_reply": "2023-01-20T21:42:12.795956Z",
     "shell.execute_reply.started": "2023-01-20T21:39:53.707616Z"
    },
    "papermill": {
     "duration": 0.065453,
     "end_time": "2023-01-20T21:42:12.796637",
     "exception": false,
     "start_time": "2023-01-20T21:42:12.731184",
     "status": "completed"
    },
    "scrolled": true,
    "tags": []
   },
   "outputs": [],
   "source": [
    "train = preprocess(train)\n",
    "test = preprocess(test)"
   ]
  },
  {
   "cell_type": "code",
   "execution_count": 13,
   "id": "3cddfaf6",
   "metadata": {
    "execution": {
     "iopub.execute_input": "2023-01-20T21:42:12.920153Z",
     "iopub.status.busy": "2023-01-20T21:42:12.919380Z",
     "iopub.status.idle": "2023-01-20T21:42:12.922553Z",
     "shell.execute_reply": "2023-01-20T21:42:12.923012Z",
     "shell.execute_reply.started": "2023-01-20T21:39:53.728207Z"
    },
    "papermill": {
     "duration": 0.074434,
     "end_time": "2023-01-20T21:42:12.923176",
     "exception": false,
     "start_time": "2023-01-20T21:42:12.848742",
     "status": "completed"
    },
    "tags": []
   },
   "outputs": [
    {
     "data": {
      "text/html": [
       "<div>\n",
       "<style scoped>\n",
       "    .dataframe tbody tr th:only-of-type {\n",
       "        vertical-align: middle;\n",
       "    }\n",
       "\n",
       "    .dataframe tbody tr th {\n",
       "        vertical-align: top;\n",
       "    }\n",
       "\n",
       "    .dataframe thead th {\n",
       "        text-align: right;\n",
       "    }\n",
       "</style>\n",
       "<table border=\"1\" class=\"dataframe\">\n",
       "  <thead>\n",
       "    <tr style=\"text-align: right;\">\n",
       "      <th></th>\n",
       "      <th>Age</th>\n",
       "      <th>BusinessTravel</th>\n",
       "      <th>DailyRate</th>\n",
       "      <th>Department</th>\n",
       "      <th>DistanceFromHome</th>\n",
       "      <th>Education</th>\n",
       "      <th>EducationField</th>\n",
       "      <th>EnvironmentSatisfaction</th>\n",
       "      <th>Gender</th>\n",
       "      <th>HourlyRate</th>\n",
       "      <th>...</th>\n",
       "      <th>RelationshipSatisfaction</th>\n",
       "      <th>StockOptionLevel</th>\n",
       "      <th>TotalWorkingYears</th>\n",
       "      <th>TrainingTimesLastYear</th>\n",
       "      <th>WorkLifeBalance</th>\n",
       "      <th>YearsAtCompany</th>\n",
       "      <th>YearsInCurrentRole</th>\n",
       "      <th>YearsSinceLastPromotion</th>\n",
       "      <th>YearsWithCurrManager</th>\n",
       "      <th>Attrition</th>\n",
       "    </tr>\n",
       "  </thead>\n",
       "  <tbody>\n",
       "    <tr>\n",
       "      <th>3142</th>\n",
       "      <td>36</td>\n",
       "      <td>Travel_Frequently</td>\n",
       "      <td>884</td>\n",
       "      <td>Research &amp; Development</td>\n",
       "      <td>23</td>\n",
       "      <td>2</td>\n",
       "      <td>Medical</td>\n",
       "      <td>3</td>\n",
       "      <td>1</td>\n",
       "      <td>41</td>\n",
       "      <td>...</td>\n",
       "      <td>3</td>\n",
       "      <td>1</td>\n",
       "      <td>17</td>\n",
       "      <td>3</td>\n",
       "      <td>3</td>\n",
       "      <td>5</td>\n",
       "      <td>2</td>\n",
       "      <td>0</td>\n",
       "      <td>3</td>\n",
       "      <td>0</td>\n",
       "    </tr>\n",
       "    <tr>\n",
       "      <th>3143</th>\n",
       "      <td>39</td>\n",
       "      <td>Travel_Rarely</td>\n",
       "      <td>613</td>\n",
       "      <td>Research &amp; Development</td>\n",
       "      <td>6</td>\n",
       "      <td>1</td>\n",
       "      <td>Medical</td>\n",
       "      <td>4</td>\n",
       "      <td>1</td>\n",
       "      <td>42</td>\n",
       "      <td>...</td>\n",
       "      <td>1</td>\n",
       "      <td>1</td>\n",
       "      <td>9</td>\n",
       "      <td>5</td>\n",
       "      <td>3</td>\n",
       "      <td>7</td>\n",
       "      <td>7</td>\n",
       "      <td>1</td>\n",
       "      <td>7</td>\n",
       "      <td>0</td>\n",
       "    </tr>\n",
       "    <tr>\n",
       "      <th>3144</th>\n",
       "      <td>27</td>\n",
       "      <td>Travel_Rarely</td>\n",
       "      <td>155</td>\n",
       "      <td>Research &amp; Development</td>\n",
       "      <td>4</td>\n",
       "      <td>3</td>\n",
       "      <td>Life Sciences</td>\n",
       "      <td>2</td>\n",
       "      <td>1</td>\n",
       "      <td>87</td>\n",
       "      <td>...</td>\n",
       "      <td>2</td>\n",
       "      <td>1</td>\n",
       "      <td>6</td>\n",
       "      <td>0</td>\n",
       "      <td>3</td>\n",
       "      <td>6</td>\n",
       "      <td>2</td>\n",
       "      <td>0</td>\n",
       "      <td>3</td>\n",
       "      <td>0</td>\n",
       "    </tr>\n",
       "    <tr>\n",
       "      <th>3145</th>\n",
       "      <td>49</td>\n",
       "      <td>Travel_Frequently</td>\n",
       "      <td>1023</td>\n",
       "      <td>Sales</td>\n",
       "      <td>2</td>\n",
       "      <td>3</td>\n",
       "      <td>Medical</td>\n",
       "      <td>4</td>\n",
       "      <td>1</td>\n",
       "      <td>63</td>\n",
       "      <td>...</td>\n",
       "      <td>4</td>\n",
       "      <td>0</td>\n",
       "      <td>17</td>\n",
       "      <td>3</td>\n",
       "      <td>2</td>\n",
       "      <td>9</td>\n",
       "      <td>6</td>\n",
       "      <td>0</td>\n",
       "      <td>8</td>\n",
       "      <td>0</td>\n",
       "    </tr>\n",
       "    <tr>\n",
       "      <th>3146</th>\n",
       "      <td>34</td>\n",
       "      <td>Travel_Rarely</td>\n",
       "      <td>628</td>\n",
       "      <td>Research &amp; Development</td>\n",
       "      <td>8</td>\n",
       "      <td>3</td>\n",
       "      <td>Medical</td>\n",
       "      <td>2</td>\n",
       "      <td>1</td>\n",
       "      <td>82</td>\n",
       "      <td>...</td>\n",
       "      <td>1</td>\n",
       "      <td>0</td>\n",
       "      <td>6</td>\n",
       "      <td>3</td>\n",
       "      <td>4</td>\n",
       "      <td>4</td>\n",
       "      <td>3</td>\n",
       "      <td>1</td>\n",
       "      <td>2</td>\n",
       "      <td>0</td>\n",
       "    </tr>\n",
       "  </tbody>\n",
       "</table>\n",
       "<p>5 rows × 31 columns</p>\n",
       "</div>"
      ],
      "text/plain": [
       "      Age     BusinessTravel  DailyRate              Department  \\\n",
       "3142   36  Travel_Frequently        884  Research & Development   \n",
       "3143   39      Travel_Rarely        613  Research & Development   \n",
       "3144   27      Travel_Rarely        155  Research & Development   \n",
       "3145   49  Travel_Frequently       1023                   Sales   \n",
       "3146   34      Travel_Rarely        628  Research & Development   \n",
       "\n",
       "      DistanceFromHome  Education EducationField  EnvironmentSatisfaction  \\\n",
       "3142                23          2        Medical                        3   \n",
       "3143                 6          1        Medical                        4   \n",
       "3144                 4          3  Life Sciences                        2   \n",
       "3145                 2          3        Medical                        4   \n",
       "3146                 8          3        Medical                        2   \n",
       "\n",
       "      Gender  HourlyRate  ...  RelationshipSatisfaction  StockOptionLevel  \\\n",
       "3142       1          41  ...                         3                 1   \n",
       "3143       1          42  ...                         1                 1   \n",
       "3144       1          87  ...                         2                 1   \n",
       "3145       1          63  ...                         4                 0   \n",
       "3146       1          82  ...                         1                 0   \n",
       "\n",
       "     TotalWorkingYears  TrainingTimesLastYear WorkLifeBalance  YearsAtCompany  \\\n",
       "3142                17                      3               3               5   \n",
       "3143                 9                      5               3               7   \n",
       "3144                 6                      0               3               6   \n",
       "3145                17                      3               2               9   \n",
       "3146                 6                      3               4               4   \n",
       "\n",
       "      YearsInCurrentRole  YearsSinceLastPromotion  YearsWithCurrManager  \\\n",
       "3142                   2                        0                     3   \n",
       "3143                   7                        1                     7   \n",
       "3144                   2                        0                     3   \n",
       "3145                   6                        0                     8   \n",
       "3146                   3                        1                     2   \n",
       "\n",
       "      Attrition  \n",
       "3142          0  \n",
       "3143          0  \n",
       "3144          0  \n",
       "3145          0  \n",
       "3146          0  \n",
       "\n",
       "[5 rows x 31 columns]"
      ]
     },
     "execution_count": 13,
     "metadata": {},
     "output_type": "execute_result"
    }
   ],
   "source": [
    "train.tail()"
   ]
  },
  {
   "cell_type": "markdown",
   "id": "c394b5e0",
   "metadata": {
    "papermill": {
     "duration": 0.048802,
     "end_time": "2023-01-20T21:42:13.020194",
     "exception": false,
     "start_time": "2023-01-20T21:42:12.971392",
     "status": "completed"
    },
    "tags": []
   },
   "source": [
    "Extracting meaningful and correlated columns"
   ]
  },
  {
   "cell_type": "code",
   "execution_count": 14,
   "id": "2502966a",
   "metadata": {
    "execution": {
     "iopub.execute_input": "2023-01-20T21:42:13.118837Z",
     "iopub.status.busy": "2023-01-20T21:42:13.117963Z",
     "iopub.status.idle": "2023-01-20T21:42:13.131147Z",
     "shell.execute_reply": "2023-01-20T21:42:13.130647Z",
     "shell.execute_reply.started": "2023-01-20T21:39:53.754650Z"
    },
    "papermill": {
     "duration": 0.062214,
     "end_time": "2023-01-20T21:42:13.131282",
     "exception": false,
     "start_time": "2023-01-20T21:42:13.069068",
     "status": "completed"
    },
    "tags": []
   },
   "outputs": [],
   "source": [
    "corr_df = train.corr()"
   ]
  },
  {
   "cell_type": "markdown",
   "id": "7aaab973",
   "metadata": {
    "papermill": {
     "duration": 0.048017,
     "end_time": "2023-01-20T21:42:13.227117",
     "exception": false,
     "start_time": "2023-01-20T21:42:13.179100",
     "status": "completed"
    },
    "tags": []
   },
   "source": [
    "Important Categorical Features"
   ]
  },
  {
   "cell_type": "code",
   "execution_count": 15,
   "id": "4ec03d86",
   "metadata": {
    "execution": {
     "iopub.execute_input": "2023-01-20T21:42:13.322636Z",
     "iopub.status.busy": "2023-01-20T21:42:13.321912Z",
     "iopub.status.idle": "2023-01-20T21:42:13.324215Z",
     "shell.execute_reply": "2023-01-20T21:42:13.324670Z",
     "shell.execute_reply.started": "2023-01-20T21:39:53.775412Z"
    },
    "papermill": {
     "duration": 0.052219,
     "end_time": "2023-01-20T21:42:13.324807",
     "exception": false,
     "start_time": "2023-01-20T21:42:13.272588",
     "status": "completed"
    },
    "tags": []
   },
   "outputs": [],
   "source": [
    "cat_feat = [\"DistanceFromHome\", \"Gender\", \"MonthlyRate\", \"NumCompaniesWorked\", \"OverTime\", \"PerformanceRating\", \"BusinessTravel\", \"Department\", \"EducationField\", \"JobRole\", \"MaritalStatus\", \"PercentSalaryHike\"]"
   ]
  },
  {
   "cell_type": "markdown",
   "id": "64758d4a",
   "metadata": {
    "papermill": {
     "duration": 0.047002,
     "end_time": "2023-01-20T21:42:13.418704",
     "exception": false,
     "start_time": "2023-01-20T21:42:13.371702",
     "status": "completed"
    },
    "tags": []
   },
   "source": [
    "----"
   ]
  },
  {
   "cell_type": "markdown",
   "id": "c1531adc",
   "metadata": {
    "papermill": {
     "duration": 0.048716,
     "end_time": "2023-01-20T21:42:13.516037",
     "exception": false,
     "start_time": "2023-01-20T21:42:13.467321",
     "status": "completed"
    },
    "tags": []
   },
   "source": [
    "# Extreme Gradient Boosting Model"
   ]
  },
  {
   "cell_type": "markdown",
   "id": "955b780a",
   "metadata": {
    "papermill": {
     "duration": 0.050152,
     "end_time": "2023-01-20T21:42:13.614256",
     "exception": false,
     "start_time": "2023-01-20T21:42:13.564104",
     "status": "completed"
    },
    "tags": []
   },
   "source": [
    "Defining Our Train and Target Data"
   ]
  },
  {
   "cell_type": "code",
   "execution_count": 16,
   "id": "2ae34557",
   "metadata": {
    "execution": {
     "iopub.execute_input": "2023-01-20T21:42:13.718832Z",
     "iopub.status.busy": "2023-01-20T21:42:13.717029Z",
     "iopub.status.idle": "2023-01-20T21:42:13.723135Z",
     "shell.execute_reply": "2023-01-20T21:42:13.722594Z",
     "shell.execute_reply.started": "2023-01-20T21:39:53.781839Z"
    },
    "papermill": {
     "duration": 0.05954,
     "end_time": "2023-01-20T21:42:13.723285",
     "exception": false,
     "start_time": "2023-01-20T21:42:13.663745",
     "status": "completed"
    },
    "tags": []
   },
   "outputs": [],
   "source": [
    "X = train.drop([\"Attrition\"], axis=1)\n",
    "y = train[\"Attrition\"]"
   ]
  },
  {
   "cell_type": "markdown",
   "id": "9b0d7c27",
   "metadata": {
    "papermill": {
     "duration": 0.048844,
     "end_time": "2023-01-20T21:42:13.821727",
     "exception": false,
     "start_time": "2023-01-20T21:42:13.772883",
     "status": "completed"
    },
    "tags": []
   },
   "source": [
    "Spliting Our Data into Train and Validation Sets"
   ]
  },
  {
   "cell_type": "code",
   "execution_count": 17,
   "id": "b4337235",
   "metadata": {
    "execution": {
     "iopub.execute_input": "2023-01-20T21:42:13.926322Z",
     "iopub.status.busy": "2023-01-20T21:42:13.925430Z",
     "iopub.status.idle": "2023-01-20T21:42:13.931204Z",
     "shell.execute_reply": "2023-01-20T21:42:13.930661Z",
     "shell.execute_reply.started": "2023-01-20T21:39:53.793201Z"
    },
    "papermill": {
     "duration": 0.060469,
     "end_time": "2023-01-20T21:42:13.931333",
     "exception": false,
     "start_time": "2023-01-20T21:42:13.870864",
     "status": "completed"
    },
    "tags": []
   },
   "outputs": [],
   "source": [
    "X_train, X_val, y_train, y_val = train_test_split(X, y, test_size=0.2, random_state=42)"
   ]
  },
  {
   "cell_type": "markdown",
   "id": "e4b65db5",
   "metadata": {
    "papermill": {
     "duration": 0.049458,
     "end_time": "2023-01-20T21:42:14.029552",
     "exception": false,
     "start_time": "2023-01-20T21:42:13.980094",
     "status": "completed"
    },
    "tags": []
   },
   "source": [
    "Encoding Our Categorical Data"
   ]
  },
  {
   "cell_type": "code",
   "execution_count": 18,
   "id": "7cae8dad",
   "metadata": {
    "execution": {
     "iopub.execute_input": "2023-01-20T21:42:14.131342Z",
     "iopub.status.busy": "2023-01-20T21:42:14.130416Z",
     "iopub.status.idle": "2023-01-20T21:42:14.132672Z",
     "shell.execute_reply": "2023-01-20T21:42:14.133106Z",
     "shell.execute_reply.started": "2023-01-20T21:39:53.807645Z"
    },
    "papermill": {
     "duration": 0.054701,
     "end_time": "2023-01-20T21:42:14.133268",
     "exception": false,
     "start_time": "2023-01-20T21:42:14.078567",
     "status": "completed"
    },
    "tags": []
   },
   "outputs": [],
   "source": [
    "le = LabelEncoder()"
   ]
  },
  {
   "cell_type": "code",
   "execution_count": 19,
   "id": "ba56f0ea",
   "metadata": {
    "execution": {
     "iopub.execute_input": "2023-01-20T21:42:14.232915Z",
     "iopub.status.busy": "2023-01-20T21:42:14.232020Z",
     "iopub.status.idle": "2023-01-20T21:42:14.233899Z",
     "shell.execute_reply": "2023-01-20T21:42:14.234450Z",
     "shell.execute_reply.started": "2023-01-20T21:39:53.818073Z"
    },
    "papermill": {
     "duration": 0.053888,
     "end_time": "2023-01-20T21:42:14.234647",
     "exception": false,
     "start_time": "2023-01-20T21:42:14.180759",
     "status": "completed"
    },
    "tags": []
   },
   "outputs": [],
   "source": [
    "columns = [\"BusinessTravel\", \"Department\", \"EducationField\", \"JobRole\", \"MaritalStatus\"]"
   ]
  },
  {
   "cell_type": "code",
   "execution_count": 20,
   "id": "53f97de1",
   "metadata": {
    "execution": {
     "iopub.execute_input": "2023-01-20T21:42:14.336842Z",
     "iopub.status.busy": "2023-01-20T21:42:14.336074Z",
     "iopub.status.idle": "2023-01-20T21:42:14.344288Z",
     "shell.execute_reply": "2023-01-20T21:42:14.343805Z",
     "shell.execute_reply.started": "2023-01-20T21:39:53.830137Z"
    },
    "papermill": {
     "duration": 0.061643,
     "end_time": "2023-01-20T21:42:14.344423",
     "exception": false,
     "start_time": "2023-01-20T21:42:14.282780",
     "status": "completed"
    },
    "tags": []
   },
   "outputs": [],
   "source": [
    "for column in columns:\n",
    "    X[column] = le.fit_transform(X[column].astype(\"str\"))"
   ]
  },
  {
   "cell_type": "markdown",
   "id": "2e2f950c",
   "metadata": {
    "papermill": {
     "duration": 0.047307,
     "end_time": "2023-01-20T21:42:14.439071",
     "exception": false,
     "start_time": "2023-01-20T21:42:14.391764",
     "status": "completed"
    },
    "tags": []
   },
   "source": [
    "Spliting Data into Train and Validation Sets"
   ]
  },
  {
   "cell_type": "code",
   "execution_count": 21,
   "id": "14c7494c",
   "metadata": {
    "execution": {
     "iopub.execute_input": "2023-01-20T21:42:14.619233Z",
     "iopub.status.busy": "2023-01-20T21:42:14.618269Z",
     "iopub.status.idle": "2023-01-20T21:42:14.621401Z",
     "shell.execute_reply": "2023-01-20T21:42:14.622407Z",
     "shell.execute_reply.started": "2023-01-20T21:39:53.848071Z"
    },
    "papermill": {
     "duration": 0.105032,
     "end_time": "2023-01-20T21:42:14.622625",
     "exception": false,
     "start_time": "2023-01-20T21:42:14.517593",
     "status": "completed"
    },
    "tags": []
   },
   "outputs": [],
   "source": [
    "X_train, X_val, y_train, y_val = train_test_split(X, y, test_size=0.2, random_state=42)"
   ]
  },
  {
   "cell_type": "markdown",
   "id": "77da6b1c",
   "metadata": {
    "papermill": {
     "duration": 0.069311,
     "end_time": "2023-01-20T21:42:14.762295",
     "exception": false,
     "start_time": "2023-01-20T21:42:14.692984",
     "status": "completed"
    },
    "tags": []
   },
   "source": [
    "Defining XGBoost Model"
   ]
  },
  {
   "cell_type": "code",
   "execution_count": 22,
   "id": "88413e4a",
   "metadata": {
    "execution": {
     "iopub.execute_input": "2023-01-20T21:42:14.918604Z",
     "iopub.status.busy": "2023-01-20T21:42:14.917727Z",
     "iopub.status.idle": "2023-01-20T21:42:14.920048Z",
     "shell.execute_reply": "2023-01-20T21:42:14.919349Z",
     "shell.execute_reply.started": "2023-01-20T21:39:53.861473Z"
    },
    "papermill": {
     "duration": 0.082767,
     "end_time": "2023-01-20T21:42:14.920207",
     "exception": false,
     "start_time": "2023-01-20T21:42:14.837440",
     "status": "completed"
    },
    "tags": []
   },
   "outputs": [],
   "source": [
    "xgb = XGBRegressor()"
   ]
  },
  {
   "cell_type": "markdown",
   "id": "2333f01e",
   "metadata": {
    "papermill": {
     "duration": 0.070773,
     "end_time": "2023-01-20T21:42:15.064532",
     "exception": false,
     "start_time": "2023-01-20T21:42:14.993759",
     "status": "completed"
    },
    "tags": []
   },
   "source": [
    "Fitting and Predicting the Data"
   ]
  },
  {
   "cell_type": "code",
   "execution_count": 23,
   "id": "dc7adfde",
   "metadata": {
    "execution": {
     "iopub.execute_input": "2023-01-20T21:42:15.229761Z",
     "iopub.status.busy": "2023-01-20T21:42:15.228956Z",
     "iopub.status.idle": "2023-01-20T21:42:16.109627Z",
     "shell.execute_reply": "2023-01-20T21:42:16.108779Z",
     "shell.execute_reply.started": "2023-01-20T21:39:53.870376Z"
    },
    "papermill": {
     "duration": 0.959666,
     "end_time": "2023-01-20T21:42:16.109769",
     "exception": false,
     "start_time": "2023-01-20T21:42:15.150103",
     "status": "completed"
    },
    "tags": []
   },
   "outputs": [
    {
     "data": {
      "text/plain": [
       "XGBRegressor(base_score=0.5, booster='gbtree', colsample_bylevel=1,\n",
       "             colsample_bynode=1, colsample_bytree=1, gamma=0, gpu_id=-1,\n",
       "             importance_type='gain', interaction_constraints='',\n",
       "             learning_rate=0.300000012, max_delta_step=0, max_depth=6,\n",
       "             min_child_weight=1, missing=nan, monotone_constraints='()',\n",
       "             n_estimators=100, n_jobs=2, num_parallel_tree=1, random_state=0,\n",
       "             reg_alpha=0, reg_lambda=1, scale_pos_weight=1, subsample=1,\n",
       "             tree_method='exact', validate_parameters=1, verbosity=None)"
      ]
     },
     "execution_count": 23,
     "metadata": {},
     "output_type": "execute_result"
    }
   ],
   "source": [
    "xgb.fit(X_train, y_train)"
   ]
  },
  {
   "cell_type": "code",
   "execution_count": 24,
   "id": "cddac25e",
   "metadata": {
    "execution": {
     "iopub.execute_input": "2023-01-20T21:42:16.212300Z",
     "iopub.status.busy": "2023-01-20T21:42:16.211520Z",
     "iopub.status.idle": "2023-01-20T21:42:16.216383Z",
     "shell.execute_reply": "2023-01-20T21:42:16.217442Z",
     "shell.execute_reply.started": "2023-01-20T21:39:54.464846Z"
    },
    "papermill": {
     "duration": 0.058861,
     "end_time": "2023-01-20T21:42:16.217611",
     "exception": false,
     "start_time": "2023-01-20T21:42:16.158750",
     "status": "completed"
    },
    "tags": []
   },
   "outputs": [],
   "source": [
    "xgb_pred = xgb.predict(X_val)"
   ]
  },
  {
   "cell_type": "markdown",
   "id": "52c9c674",
   "metadata": {
    "papermill": {
     "duration": 0.055133,
     "end_time": "2023-01-20T21:42:16.322653",
     "exception": false,
     "start_time": "2023-01-20T21:42:16.267520",
     "status": "completed"
    },
    "tags": []
   },
   "source": [
    "Score for XGB Model"
   ]
  },
  {
   "cell_type": "code",
   "execution_count": 25,
   "id": "ca35ed09",
   "metadata": {
    "execution": {
     "iopub.execute_input": "2023-01-20T21:42:16.473489Z",
     "iopub.status.busy": "2023-01-20T21:42:16.472653Z",
     "iopub.status.idle": "2023-01-20T21:42:16.478421Z",
     "shell.execute_reply": "2023-01-20T21:42:16.477938Z",
     "shell.execute_reply.started": "2023-01-20T21:39:54.473885Z"
    },
    "papermill": {
     "duration": 0.074522,
     "end_time": "2023-01-20T21:42:16.478553",
     "exception": false,
     "start_time": "2023-01-20T21:42:16.404031",
     "status": "completed"
    },
    "tags": []
   },
   "outputs": [],
   "source": [
    "xgb_score = roc_auc_score(y_val, xgb_pred)"
   ]
  },
  {
   "cell_type": "code",
   "execution_count": 26,
   "id": "e07bca79",
   "metadata": {
    "execution": {
     "iopub.execute_input": "2023-01-20T21:42:16.581589Z",
     "iopub.status.busy": "2023-01-20T21:42:16.580878Z",
     "iopub.status.idle": "2023-01-20T21:42:16.583874Z",
     "shell.execute_reply": "2023-01-20T21:42:16.584340Z",
     "shell.execute_reply.started": "2023-01-20T21:39:54.489369Z"
    },
    "papermill": {
     "duration": 0.057018,
     "end_time": "2023-01-20T21:42:16.584504",
     "exception": false,
     "start_time": "2023-01-20T21:42:16.527486",
     "status": "completed"
    },
    "tags": []
   },
   "outputs": [
    {
     "data": {
      "text/plain": [
       "0.7664609053497943"
      ]
     },
     "execution_count": 26,
     "metadata": {},
     "output_type": "execute_result"
    }
   ],
   "source": [
    "xgb_score"
   ]
  },
  {
   "cell_type": "markdown",
   "id": "1b278aa6",
   "metadata": {
    "papermill": {
     "duration": 0.047619,
     "end_time": "2023-01-20T21:42:16.681103",
     "exception": false,
     "start_time": "2023-01-20T21:42:16.633484",
     "status": "completed"
    },
    "tags": []
   },
   "source": [
    "----"
   ]
  },
  {
   "cell_type": "markdown",
   "id": "442df9cc",
   "metadata": {
    "papermill": {
     "duration": 0.050021,
     "end_time": "2023-01-20T21:42:16.782666",
     "exception": false,
     "start_time": "2023-01-20T21:42:16.732645",
     "status": "completed"
    },
    "tags": []
   },
   "source": [
    "# CatBoostRegressor Model"
   ]
  },
  {
   "cell_type": "markdown",
   "id": "d969cf1f",
   "metadata": {
    "papermill": {
     "duration": 0.049773,
     "end_time": "2023-01-20T21:42:16.885070",
     "exception": false,
     "start_time": "2023-01-20T21:42:16.835297",
     "status": "completed"
    },
    "tags": []
   },
   "source": [
    "Defining Our Train and Target Data"
   ]
  },
  {
   "cell_type": "code",
   "execution_count": 27,
   "id": "92689d7d",
   "metadata": {
    "execution": {
     "iopub.execute_input": "2023-01-20T21:42:16.995491Z",
     "iopub.status.busy": "2023-01-20T21:42:16.994549Z",
     "iopub.status.idle": "2023-01-20T21:42:16.996842Z",
     "shell.execute_reply": "2023-01-20T21:42:16.997342Z",
     "shell.execute_reply.started": "2023-01-20T21:39:54.499202Z"
    },
    "papermill": {
     "duration": 0.059085,
     "end_time": "2023-01-20T21:42:16.997525",
     "exception": false,
     "start_time": "2023-01-20T21:42:16.938440",
     "status": "completed"
    },
    "tags": []
   },
   "outputs": [],
   "source": [
    "X = train.drop([\"Attrition\"], axis=1)\n",
    "y = train[\"Attrition\"]"
   ]
  },
  {
   "cell_type": "markdown",
   "id": "6c4a6ea6",
   "metadata": {
    "papermill": {
     "duration": 0.051106,
     "end_time": "2023-01-20T21:42:17.100701",
     "exception": false,
     "start_time": "2023-01-20T21:42:17.049595",
     "status": "completed"
    },
    "tags": []
   },
   "source": [
    "Converting cat_feat list to Categorical Data"
   ]
  },
  {
   "cell_type": "code",
   "execution_count": 28,
   "id": "4915cbcf",
   "metadata": {
    "execution": {
     "iopub.execute_input": "2023-01-20T21:42:17.211132Z",
     "iopub.status.busy": "2023-01-20T21:42:17.210083Z",
     "iopub.status.idle": "2023-01-20T21:42:17.223718Z",
     "shell.execute_reply": "2023-01-20T21:42:17.223218Z",
     "shell.execute_reply.started": "2023-01-20T21:39:54.512478Z"
    },
    "papermill": {
     "duration": 0.072176,
     "end_time": "2023-01-20T21:42:17.223847",
     "exception": false,
     "start_time": "2023-01-20T21:42:17.151671",
     "status": "completed"
    },
    "tags": []
   },
   "outputs": [],
   "source": [
    "for column in cat_feat:\n",
    "    X[column] = X[column].astype(\"category\")"
   ]
  },
  {
   "cell_type": "markdown",
   "id": "55d963e8",
   "metadata": {
    "papermill": {
     "duration": 0.050011,
     "end_time": "2023-01-20T21:42:17.325456",
     "exception": false,
     "start_time": "2023-01-20T21:42:17.275445",
     "status": "completed"
    },
    "tags": []
   },
   "source": [
    "Spliting Our Data into Train and Validation Sets"
   ]
  },
  {
   "cell_type": "code",
   "execution_count": 29,
   "id": "0894b517",
   "metadata": {
    "execution": {
     "iopub.execute_input": "2023-01-20T21:42:17.435952Z",
     "iopub.status.busy": "2023-01-20T21:42:17.435078Z",
     "iopub.status.idle": "2023-01-20T21:42:17.443200Z",
     "shell.execute_reply": "2023-01-20T21:42:17.442693Z",
     "shell.execute_reply.started": "2023-01-20T21:39:54.534147Z"
    },
    "papermill": {
     "duration": 0.065239,
     "end_time": "2023-01-20T21:42:17.443329",
     "exception": false,
     "start_time": "2023-01-20T21:42:17.378090",
     "status": "completed"
    },
    "tags": []
   },
   "outputs": [],
   "source": [
    "X_train, X_val, y_train, y_val = train_test_split(X, y, test_size=0.2, random_state=42)"
   ]
  },
  {
   "cell_type": "markdown",
   "id": "f2409d61",
   "metadata": {
    "papermill": {
     "duration": 0.049192,
     "end_time": "2023-01-20T21:42:17.542778",
     "exception": false,
     "start_time": "2023-01-20T21:42:17.493586",
     "status": "completed"
    },
    "tags": []
   },
   "source": [
    "Creating Pools for our CBR Model"
   ]
  },
  {
   "cell_type": "code",
   "execution_count": 30,
   "id": "1581fd2b",
   "metadata": {
    "execution": {
     "iopub.execute_input": "2023-01-20T21:42:17.677531Z",
     "iopub.status.busy": "2023-01-20T21:42:17.669284Z",
     "iopub.status.idle": "2023-01-20T21:42:17.679908Z",
     "shell.execute_reply": "2023-01-20T21:42:17.680445Z",
     "shell.execute_reply.started": "2023-01-20T21:39:54.547283Z"
    },
    "papermill": {
     "duration": 0.087816,
     "end_time": "2023-01-20T21:42:17.680615",
     "exception": false,
     "start_time": "2023-01-20T21:42:17.592799",
     "status": "completed"
    },
    "tags": []
   },
   "outputs": [],
   "source": [
    "pool_train = Pool(X_train, y_train, cat_features = cat_feat)\n",
    "pool_val = Pool(X_val, y_val, cat_features = cat_feat)"
   ]
  },
  {
   "cell_type": "markdown",
   "id": "333e22d0",
   "metadata": {
    "papermill": {
     "duration": 0.048632,
     "end_time": "2023-01-20T21:42:17.778312",
     "exception": false,
     "start_time": "2023-01-20T21:42:17.729680",
     "status": "completed"
    },
    "tags": []
   },
   "source": [
    "Defining our CBR Model"
   ]
  },
  {
   "cell_type": "code",
   "execution_count": 31,
   "id": "a25b0821",
   "metadata": {
    "execution": {
     "iopub.execute_input": "2023-01-20T21:42:17.884764Z",
     "iopub.status.busy": "2023-01-20T21:42:17.883852Z",
     "iopub.status.idle": "2023-01-20T21:42:17.886604Z",
     "shell.execute_reply": "2023-01-20T21:42:17.886149Z",
     "shell.execute_reply.started": "2023-01-20T21:39:54.591807Z"
    },
    "papermill": {
     "duration": 0.059307,
     "end_time": "2023-01-20T21:42:17.886720",
     "exception": false,
     "start_time": "2023-01-20T21:42:17.827413",
     "status": "completed"
    },
    "tags": []
   },
   "outputs": [],
   "source": [
    "cbr = CatBoostRegressor()"
   ]
  },
  {
   "cell_type": "markdown",
   "id": "c87b78ef",
   "metadata": {
    "papermill": {
     "duration": 0.048035,
     "end_time": "2023-01-20T21:42:17.983691",
     "exception": false,
     "start_time": "2023-01-20T21:42:17.935656",
     "status": "completed"
    },
    "tags": []
   },
   "source": [
    "Fitting and Predicting the Data"
   ]
  },
  {
   "cell_type": "code",
   "execution_count": 32,
   "id": "1ad68e9b",
   "metadata": {
    "execution": {
     "iopub.execute_input": "2023-01-20T21:42:18.097247Z",
     "iopub.status.busy": "2023-01-20T21:42:18.096501Z",
     "iopub.status.idle": "2023-01-20T21:42:29.227453Z",
     "shell.execute_reply": "2023-01-20T21:42:29.226952Z",
     "shell.execute_reply.started": "2023-01-20T21:39:54.605433Z"
    },
    "papermill": {
     "duration": 11.194131,
     "end_time": "2023-01-20T21:42:29.227595",
     "exception": false,
     "start_time": "2023-01-20T21:42:18.033464",
     "status": "completed"
    },
    "scrolled": true,
    "tags": []
   },
   "outputs": [
    {
     "name": "stdout",
     "output_type": "stream",
     "text": [
      "Learning rate set to 0.046\n",
      "0:\tlearn: 0.3420323\ttotal: 69.3ms\tremaining: 1m 9s\n",
      "1:\tlearn: 0.3399516\ttotal: 82.7ms\tremaining: 41.2s\n",
      "2:\tlearn: 0.3378184\ttotal: 93.3ms\tremaining: 31s\n",
      "3:\tlearn: 0.3359472\ttotal: 104ms\tremaining: 25.8s\n",
      "4:\tlearn: 0.3342527\ttotal: 114ms\tremaining: 22.8s\n",
      "5:\tlearn: 0.3322343\ttotal: 124ms\tremaining: 20.6s\n",
      "6:\tlearn: 0.3302963\ttotal: 134ms\tremaining: 19s\n",
      "7:\tlearn: 0.3292829\ttotal: 145ms\tremaining: 17.9s\n",
      "8:\tlearn: 0.3277633\ttotal: 154ms\tremaining: 17s\n",
      "9:\tlearn: 0.3263485\ttotal: 164ms\tremaining: 16.2s\n",
      "10:\tlearn: 0.3247079\ttotal: 176ms\tremaining: 15.8s\n",
      "11:\tlearn: 0.3231087\ttotal: 185ms\tremaining: 15.3s\n",
      "12:\tlearn: 0.3217713\ttotal: 197ms\tremaining: 15s\n",
      "13:\tlearn: 0.3200514\ttotal: 208ms\tremaining: 14.6s\n",
      "14:\tlearn: 0.3190512\ttotal: 213ms\tremaining: 14s\n",
      "15:\tlearn: 0.3177940\ttotal: 222ms\tremaining: 13.7s\n",
      "16:\tlearn: 0.3165161\ttotal: 232ms\tremaining: 13.4s\n",
      "17:\tlearn: 0.3151945\ttotal: 242ms\tremaining: 13.2s\n",
      "18:\tlearn: 0.3141222\ttotal: 253ms\tremaining: 13.1s\n",
      "19:\tlearn: 0.3130763\ttotal: 263ms\tremaining: 12.9s\n",
      "20:\tlearn: 0.3118754\ttotal: 272ms\tremaining: 12.7s\n",
      "21:\tlearn: 0.3107812\ttotal: 282ms\tremaining: 12.6s\n",
      "22:\tlearn: 0.3094780\ttotal: 293ms\tremaining: 12.5s\n",
      "23:\tlearn: 0.3089241\ttotal: 304ms\tremaining: 12.4s\n",
      "24:\tlearn: 0.3080189\ttotal: 313ms\tremaining: 12.2s\n",
      "25:\tlearn: 0.3073276\ttotal: 324ms\tremaining: 12.1s\n",
      "26:\tlearn: 0.3064132\ttotal: 334ms\tremaining: 12s\n",
      "27:\tlearn: 0.3054687\ttotal: 343ms\tremaining: 11.9s\n",
      "28:\tlearn: 0.3045920\ttotal: 354ms\tremaining: 11.8s\n",
      "29:\tlearn: 0.3038109\ttotal: 364ms\tremaining: 11.8s\n",
      "30:\tlearn: 0.3031717\ttotal: 374ms\tremaining: 11.7s\n",
      "31:\tlearn: 0.3023828\ttotal: 384ms\tremaining: 11.6s\n",
      "32:\tlearn: 0.3015473\ttotal: 396ms\tremaining: 11.6s\n",
      "33:\tlearn: 0.3008204\ttotal: 408ms\tremaining: 11.6s\n",
      "34:\tlearn: 0.3002123\ttotal: 418ms\tremaining: 11.5s\n",
      "35:\tlearn: 0.2994193\ttotal: 429ms\tremaining: 11.5s\n",
      "36:\tlearn: 0.2985794\ttotal: 439ms\tremaining: 11.4s\n",
      "37:\tlearn: 0.2977763\ttotal: 449ms\tremaining: 11.4s\n",
      "38:\tlearn: 0.2970869\ttotal: 459ms\tremaining: 11.3s\n",
      "39:\tlearn: 0.2962765\ttotal: 469ms\tremaining: 11.2s\n",
      "40:\tlearn: 0.2957372\ttotal: 479ms\tremaining: 11.2s\n",
      "41:\tlearn: 0.2951966\ttotal: 489ms\tremaining: 11.2s\n",
      "42:\tlearn: 0.2947207\ttotal: 500ms\tremaining: 11.1s\n",
      "43:\tlearn: 0.2940657\ttotal: 509ms\tremaining: 11.1s\n",
      "44:\tlearn: 0.2933333\ttotal: 519ms\tremaining: 11s\n",
      "45:\tlearn: 0.2928941\ttotal: 528ms\tremaining: 11s\n",
      "46:\tlearn: 0.2923720\ttotal: 538ms\tremaining: 10.9s\n",
      "47:\tlearn: 0.2915763\ttotal: 548ms\tremaining: 10.9s\n",
      "48:\tlearn: 0.2911963\ttotal: 557ms\tremaining: 10.8s\n",
      "49:\tlearn: 0.2906058\ttotal: 567ms\tremaining: 10.8s\n",
      "50:\tlearn: 0.2900130\ttotal: 576ms\tremaining: 10.7s\n",
      "51:\tlearn: 0.2895208\ttotal: 585ms\tremaining: 10.7s\n",
      "52:\tlearn: 0.2892266\ttotal: 595ms\tremaining: 10.6s\n",
      "53:\tlearn: 0.2887463\ttotal: 610ms\tremaining: 10.7s\n",
      "54:\tlearn: 0.2881159\ttotal: 619ms\tremaining: 10.6s\n",
      "55:\tlearn: 0.2876937\ttotal: 629ms\tremaining: 10.6s\n",
      "56:\tlearn: 0.2873480\ttotal: 638ms\tremaining: 10.6s\n",
      "57:\tlearn: 0.2870162\ttotal: 649ms\tremaining: 10.5s\n",
      "58:\tlearn: 0.2864867\ttotal: 659ms\tremaining: 10.5s\n",
      "59:\tlearn: 0.2858208\ttotal: 669ms\tremaining: 10.5s\n",
      "60:\tlearn: 0.2855719\ttotal: 680ms\tremaining: 10.5s\n",
      "61:\tlearn: 0.2851187\ttotal: 690ms\tremaining: 10.4s\n",
      "62:\tlearn: 0.2846275\ttotal: 699ms\tremaining: 10.4s\n",
      "63:\tlearn: 0.2841390\ttotal: 709ms\tremaining: 10.4s\n",
      "64:\tlearn: 0.2837564\ttotal: 718ms\tremaining: 10.3s\n",
      "65:\tlearn: 0.2833352\ttotal: 727ms\tremaining: 10.3s\n",
      "66:\tlearn: 0.2831338\ttotal: 738ms\tremaining: 10.3s\n",
      "67:\tlearn: 0.2827918\ttotal: 747ms\tremaining: 10.2s\n",
      "68:\tlearn: 0.2824032\ttotal: 758ms\tremaining: 10.2s\n",
      "69:\tlearn: 0.2823097\ttotal: 768ms\tremaining: 10.2s\n",
      "70:\tlearn: 0.2819364\ttotal: 779ms\tremaining: 10.2s\n",
      "71:\tlearn: 0.2815979\ttotal: 790ms\tremaining: 10.2s\n",
      "72:\tlearn: 0.2812832\ttotal: 800ms\tremaining: 10.2s\n",
      "73:\tlearn: 0.2811182\ttotal: 813ms\tremaining: 10.2s\n",
      "74:\tlearn: 0.2807861\ttotal: 824ms\tremaining: 10.2s\n",
      "75:\tlearn: 0.2803009\ttotal: 834ms\tremaining: 10.1s\n",
      "76:\tlearn: 0.2796712\ttotal: 844ms\tremaining: 10.1s\n",
      "77:\tlearn: 0.2792591\ttotal: 855ms\tremaining: 10.1s\n",
      "78:\tlearn: 0.2790136\ttotal: 865ms\tremaining: 10.1s\n",
      "79:\tlearn: 0.2786593\ttotal: 874ms\tremaining: 10.1s\n",
      "80:\tlearn: 0.2783883\ttotal: 886ms\tremaining: 10s\n",
      "81:\tlearn: 0.2780864\ttotal: 895ms\tremaining: 10s\n",
      "82:\tlearn: 0.2776326\ttotal: 906ms\tremaining: 10s\n",
      "83:\tlearn: 0.2773168\ttotal: 917ms\tremaining: 10s\n",
      "84:\tlearn: 0.2769308\ttotal: 927ms\tremaining: 9.98s\n",
      "85:\tlearn: 0.2765871\ttotal: 938ms\tremaining: 9.96s\n",
      "86:\tlearn: 0.2761669\ttotal: 948ms\tremaining: 9.95s\n",
      "87:\tlearn: 0.2758834\ttotal: 960ms\tremaining: 9.95s\n",
      "88:\tlearn: 0.2754854\ttotal: 970ms\tremaining: 9.93s\n",
      "89:\tlearn: 0.2751026\ttotal: 979ms\tremaining: 9.9s\n",
      "90:\tlearn: 0.2747650\ttotal: 990ms\tremaining: 9.89s\n",
      "91:\tlearn: 0.2743919\ttotal: 1s\tremaining: 9.88s\n",
      "92:\tlearn: 0.2740326\ttotal: 1.01s\tremaining: 9.87s\n",
      "93:\tlearn: 0.2737216\ttotal: 1.02s\tremaining: 9.85s\n",
      "94:\tlearn: 0.2737100\ttotal: 1.02s\tremaining: 9.76s\n",
      "95:\tlearn: 0.2733985\ttotal: 1.03s\tremaining: 9.75s\n",
      "96:\tlearn: 0.2730098\ttotal: 1.04s\tremaining: 9.72s\n",
      "97:\tlearn: 0.2727853\ttotal: 1.05s\tremaining: 9.71s\n",
      "98:\tlearn: 0.2724042\ttotal: 1.06s\tremaining: 9.69s\n",
      "99:\tlearn: 0.2721182\ttotal: 1.07s\tremaining: 9.68s\n",
      "100:\tlearn: 0.2719043\ttotal: 1.08s\tremaining: 9.67s\n",
      "101:\tlearn: 0.2714763\ttotal: 1.09s\tremaining: 9.64s\n",
      "102:\tlearn: 0.2711570\ttotal: 1.1s\tremaining: 9.63s\n",
      "103:\tlearn: 0.2708875\ttotal: 1.12s\tremaining: 9.62s\n",
      "104:\tlearn: 0.2707562\ttotal: 1.13s\tremaining: 9.59s\n",
      "105:\tlearn: 0.2704645\ttotal: 1.14s\tremaining: 9.58s\n",
      "106:\tlearn: 0.2702787\ttotal: 1.15s\tremaining: 9.56s\n",
      "107:\tlearn: 0.2700988\ttotal: 1.16s\tremaining: 9.54s\n",
      "108:\tlearn: 0.2698073\ttotal: 1.18s\tremaining: 9.66s\n",
      "109:\tlearn: 0.2696842\ttotal: 1.2s\tremaining: 9.73s\n",
      "110:\tlearn: 0.2694014\ttotal: 1.24s\tremaining: 9.93s\n",
      "111:\tlearn: 0.2692512\ttotal: 1.26s\tremaining: 9.97s\n",
      "112:\tlearn: 0.2688685\ttotal: 1.29s\tremaining: 10.2s\n",
      "113:\tlearn: 0.2684836\ttotal: 1.31s\tremaining: 10.2s\n",
      "114:\tlearn: 0.2682682\ttotal: 1.33s\tremaining: 10.2s\n",
      "115:\tlearn: 0.2679755\ttotal: 1.35s\tremaining: 10.3s\n",
      "116:\tlearn: 0.2677047\ttotal: 1.38s\tremaining: 10.4s\n",
      "117:\tlearn: 0.2675537\ttotal: 1.4s\tremaining: 10.4s\n",
      "118:\tlearn: 0.2673598\ttotal: 1.42s\tremaining: 10.5s\n",
      "119:\tlearn: 0.2671653\ttotal: 1.43s\tremaining: 10.5s\n",
      "120:\tlearn: 0.2669907\ttotal: 1.45s\tremaining: 10.5s\n",
      "121:\tlearn: 0.2666989\ttotal: 1.46s\tremaining: 10.5s\n",
      "122:\tlearn: 0.2665734\ttotal: 1.48s\tremaining: 10.5s\n",
      "123:\tlearn: 0.2664417\ttotal: 1.5s\tremaining: 10.6s\n",
      "124:\tlearn: 0.2662122\ttotal: 1.52s\tremaining: 10.6s\n",
      "125:\tlearn: 0.2660530\ttotal: 1.54s\tremaining: 10.7s\n",
      "126:\tlearn: 0.2657937\ttotal: 1.56s\tremaining: 10.7s\n",
      "127:\tlearn: 0.2655198\ttotal: 1.58s\tremaining: 10.8s\n",
      "128:\tlearn: 0.2651832\ttotal: 1.6s\tremaining: 10.8s\n",
      "129:\tlearn: 0.2649867\ttotal: 1.62s\tremaining: 10.8s\n",
      "130:\tlearn: 0.2646731\ttotal: 1.64s\tremaining: 10.9s\n",
      "131:\tlearn: 0.2643538\ttotal: 1.66s\tremaining: 10.9s\n",
      "132:\tlearn: 0.2640626\ttotal: 1.68s\tremaining: 10.9s\n",
      "133:\tlearn: 0.2639565\ttotal: 1.69s\tremaining: 10.9s\n",
      "134:\tlearn: 0.2637192\ttotal: 1.71s\tremaining: 10.9s\n",
      "135:\tlearn: 0.2634170\ttotal: 1.72s\tremaining: 10.9s\n",
      "136:\tlearn: 0.2632408\ttotal: 1.73s\tremaining: 10.9s\n",
      "137:\tlearn: 0.2630228\ttotal: 1.75s\tremaining: 10.9s\n",
      "138:\tlearn: 0.2627732\ttotal: 1.76s\tremaining: 10.9s\n",
      "139:\tlearn: 0.2626396\ttotal: 1.77s\tremaining: 10.9s\n",
      "140:\tlearn: 0.2624245\ttotal: 1.78s\tremaining: 10.9s\n",
      "141:\tlearn: 0.2622833\ttotal: 1.8s\tremaining: 10.9s\n",
      "142:\tlearn: 0.2618599\ttotal: 1.81s\tremaining: 10.9s\n",
      "143:\tlearn: 0.2616665\ttotal: 1.83s\tremaining: 10.9s\n",
      "144:\tlearn: 0.2615455\ttotal: 1.86s\tremaining: 10.9s\n",
      "145:\tlearn: 0.2614058\ttotal: 1.87s\tremaining: 11s\n",
      "146:\tlearn: 0.2612391\ttotal: 1.89s\tremaining: 11s\n",
      "147:\tlearn: 0.2610209\ttotal: 1.9s\tremaining: 10.9s\n",
      "148:\tlearn: 0.2608641\ttotal: 1.91s\tremaining: 10.9s\n",
      "149:\tlearn: 0.2607268\ttotal: 1.92s\tremaining: 10.9s\n",
      "150:\tlearn: 0.2605976\ttotal: 1.93s\tremaining: 10.9s\n",
      "151:\tlearn: 0.2604556\ttotal: 1.94s\tremaining: 10.8s\n",
      "152:\tlearn: 0.2602609\ttotal: 1.95s\tremaining: 10.8s\n",
      "153:\tlearn: 0.2599672\ttotal: 1.96s\tremaining: 10.8s\n",
      "154:\tlearn: 0.2596717\ttotal: 1.97s\tremaining: 10.7s\n",
      "155:\tlearn: 0.2595417\ttotal: 1.98s\tremaining: 10.7s\n",
      "156:\tlearn: 0.2594084\ttotal: 1.99s\tremaining: 10.7s\n",
      "157:\tlearn: 0.2593775\ttotal: 2s\tremaining: 10.7s\n",
      "158:\tlearn: 0.2591982\ttotal: 2.01s\tremaining: 10.6s\n",
      "159:\tlearn: 0.2588943\ttotal: 2.02s\tremaining: 10.6s\n",
      "160:\tlearn: 0.2587213\ttotal: 2.03s\tremaining: 10.6s\n",
      "161:\tlearn: 0.2584889\ttotal: 2.04s\tremaining: 10.6s\n",
      "162:\tlearn: 0.2582821\ttotal: 2.05s\tremaining: 10.5s\n",
      "163:\tlearn: 0.2582560\ttotal: 2.06s\tremaining: 10.5s\n",
      "164:\tlearn: 0.2579514\ttotal: 2.07s\tremaining: 10.5s\n",
      "165:\tlearn: 0.2576869\ttotal: 2.08s\tremaining: 10.5s\n",
      "166:\tlearn: 0.2574176\ttotal: 2.09s\tremaining: 10.4s\n",
      "167:\tlearn: 0.2571724\ttotal: 2.1s\tremaining: 10.4s\n",
      "168:\tlearn: 0.2569004\ttotal: 2.11s\tremaining: 10.4s\n",
      "169:\tlearn: 0.2567645\ttotal: 2.13s\tremaining: 10.4s\n",
      "170:\tlearn: 0.2563572\ttotal: 2.13s\tremaining: 10.3s\n",
      "171:\tlearn: 0.2560170\ttotal: 2.14s\tremaining: 10.3s\n",
      "172:\tlearn: 0.2558115\ttotal: 2.15s\tremaining: 10.3s\n",
      "173:\tlearn: 0.2556554\ttotal: 2.16s\tremaining: 10.3s\n",
      "174:\tlearn: 0.2556019\ttotal: 2.17s\tremaining: 10.2s\n",
      "175:\tlearn: 0.2554311\ttotal: 2.18s\tremaining: 10.2s\n",
      "176:\tlearn: 0.2550745\ttotal: 2.19s\tremaining: 10.2s\n",
      "177:\tlearn: 0.2549992\ttotal: 2.2s\tremaining: 10.2s\n",
      "178:\tlearn: 0.2549022\ttotal: 2.21s\tremaining: 10.1s\n",
      "179:\tlearn: 0.2546593\ttotal: 2.22s\tremaining: 10.1s\n",
      "180:\tlearn: 0.2545210\ttotal: 2.23s\tremaining: 10.1s\n",
      "181:\tlearn: 0.2544380\ttotal: 2.24s\tremaining: 10.1s\n",
      "182:\tlearn: 0.2541807\ttotal: 2.25s\tremaining: 10.1s\n",
      "183:\tlearn: 0.2539948\ttotal: 2.26s\tremaining: 10s\n",
      "184:\tlearn: 0.2537042\ttotal: 2.27s\tremaining: 10s\n",
      "185:\tlearn: 0.2533674\ttotal: 2.28s\tremaining: 10s\n",
      "186:\tlearn: 0.2531823\ttotal: 2.3s\tremaining: 9.99s\n",
      "187:\tlearn: 0.2529590\ttotal: 2.31s\tremaining: 9.97s\n",
      "188:\tlearn: 0.2527508\ttotal: 2.32s\tremaining: 9.95s\n",
      "189:\tlearn: 0.2526827\ttotal: 2.33s\tremaining: 9.93s\n",
      "190:\tlearn: 0.2523493\ttotal: 2.34s\tremaining: 9.9s\n",
      "191:\tlearn: 0.2520619\ttotal: 2.35s\tremaining: 9.89s\n",
      "192:\tlearn: 0.2519917\ttotal: 2.36s\tremaining: 9.87s\n",
      "193:\tlearn: 0.2518851\ttotal: 2.37s\tremaining: 9.86s\n",
      "194:\tlearn: 0.2514393\ttotal: 2.38s\tremaining: 9.83s\n",
      "195:\tlearn: 0.2513252\ttotal: 2.39s\tremaining: 9.81s\n",
      "196:\tlearn: 0.2512946\ttotal: 2.4s\tremaining: 9.79s\n",
      "197:\tlearn: 0.2511293\ttotal: 2.41s\tremaining: 9.77s\n",
      "198:\tlearn: 0.2509828\ttotal: 2.42s\tremaining: 9.75s\n",
      "199:\tlearn: 0.2509324\ttotal: 2.43s\tremaining: 9.73s\n",
      "200:\tlearn: 0.2507040\ttotal: 2.44s\tremaining: 9.71s\n",
      "201:\tlearn: 0.2505377\ttotal: 2.45s\tremaining: 9.69s\n",
      "202:\tlearn: 0.2502798\ttotal: 2.46s\tremaining: 9.66s\n",
      "203:\tlearn: 0.2500073\ttotal: 2.47s\tremaining: 9.64s\n",
      "204:\tlearn: 0.2497601\ttotal: 2.48s\tremaining: 9.62s\n",
      "205:\tlearn: 0.2496097\ttotal: 2.49s\tremaining: 9.61s\n",
      "206:\tlearn: 0.2494171\ttotal: 2.5s\tremaining: 9.6s\n",
      "207:\tlearn: 0.2493328\ttotal: 2.52s\tremaining: 9.58s\n",
      "208:\tlearn: 0.2491557\ttotal: 2.52s\tremaining: 9.56s\n",
      "209:\tlearn: 0.2488178\ttotal: 2.54s\tremaining: 9.54s\n",
      "210:\tlearn: 0.2485340\ttotal: 2.54s\tremaining: 9.52s\n",
      "211:\tlearn: 0.2484938\ttotal: 2.55s\tremaining: 9.5s\n",
      "212:\tlearn: 0.2482811\ttotal: 2.56s\tremaining: 9.48s\n",
      "213:\tlearn: 0.2479622\ttotal: 2.57s\tremaining: 9.46s\n",
      "214:\tlearn: 0.2476591\ttotal: 2.58s\tremaining: 9.44s\n",
      "215:\tlearn: 0.2475252\ttotal: 2.6s\tremaining: 9.42s\n",
      "216:\tlearn: 0.2474441\ttotal: 2.6s\tremaining: 9.4s\n",
      "217:\tlearn: 0.2472316\ttotal: 2.62s\tremaining: 9.38s\n",
      "218:\tlearn: 0.2468616\ttotal: 2.63s\tremaining: 9.36s\n",
      "219:\tlearn: 0.2466679\ttotal: 2.63s\tremaining: 9.33s\n",
      "220:\tlearn: 0.2465502\ttotal: 2.64s\tremaining: 9.31s\n",
      "221:\tlearn: 0.2464571\ttotal: 2.65s\tremaining: 9.29s\n",
      "222:\tlearn: 0.2460727\ttotal: 2.66s\tremaining: 9.27s\n",
      "223:\tlearn: 0.2459745\ttotal: 2.67s\tremaining: 9.25s\n",
      "224:\tlearn: 0.2458681\ttotal: 2.68s\tremaining: 9.23s\n",
      "225:\tlearn: 0.2456893\ttotal: 2.69s\tremaining: 9.21s\n",
      "226:\tlearn: 0.2455406\ttotal: 2.7s\tremaining: 9.2s\n",
      "227:\tlearn: 0.2454095\ttotal: 2.71s\tremaining: 9.18s\n",
      "228:\tlearn: 0.2453137\ttotal: 2.72s\tremaining: 9.17s\n",
      "229:\tlearn: 0.2450670\ttotal: 2.73s\tremaining: 9.15s\n",
      "230:\tlearn: 0.2449304\ttotal: 2.74s\tremaining: 9.13s\n",
      "231:\tlearn: 0.2448396\ttotal: 2.75s\tremaining: 9.11s\n",
      "232:\tlearn: 0.2447724\ttotal: 2.76s\tremaining: 9.09s\n",
      "233:\tlearn: 0.2447153\ttotal: 2.77s\tremaining: 9.07s\n",
      "234:\tlearn: 0.2446257\ttotal: 2.78s\tremaining: 9.06s\n",
      "235:\tlearn: 0.2445596\ttotal: 2.79s\tremaining: 9.04s\n",
      "236:\tlearn: 0.2441461\ttotal: 2.8s\tremaining: 9.02s\n",
      "237:\tlearn: 0.2437712\ttotal: 2.81s\tremaining: 9.01s\n",
      "238:\tlearn: 0.2436836\ttotal: 2.82s\tremaining: 8.99s\n",
      "239:\tlearn: 0.2436418\ttotal: 2.83s\tremaining: 8.96s\n",
      "240:\tlearn: 0.2432424\ttotal: 2.84s\tremaining: 8.95s\n",
      "241:\tlearn: 0.2430775\ttotal: 2.85s\tremaining: 8.93s\n",
      "242:\tlearn: 0.2430637\ttotal: 2.86s\tremaining: 8.91s\n",
      "243:\tlearn: 0.2428096\ttotal: 2.87s\tremaining: 8.89s\n",
      "244:\tlearn: 0.2426468\ttotal: 2.88s\tremaining: 8.88s\n",
      "245:\tlearn: 0.2422883\ttotal: 2.89s\tremaining: 8.86s\n",
      "246:\tlearn: 0.2421654\ttotal: 2.9s\tremaining: 8.85s\n",
      "247:\tlearn: 0.2420631\ttotal: 2.91s\tremaining: 8.84s\n",
      "248:\tlearn: 0.2418434\ttotal: 2.92s\tremaining: 8.82s\n",
      "249:\tlearn: 0.2416169\ttotal: 2.94s\tremaining: 8.8s\n",
      "250:\tlearn: 0.2415824\ttotal: 2.94s\tremaining: 8.79s\n",
      "251:\tlearn: 0.2415680\ttotal: 2.95s\tremaining: 8.77s\n",
      "252:\tlearn: 0.2413313\ttotal: 2.96s\tremaining: 8.75s\n",
      "253:\tlearn: 0.2411161\ttotal: 2.98s\tremaining: 8.74s\n",
      "254:\tlearn: 0.2411018\ttotal: 2.98s\tremaining: 8.72s\n",
      "255:\tlearn: 0.2409665\ttotal: 2.99s\tremaining: 8.7s\n",
      "256:\tlearn: 0.2409161\ttotal: 3s\tremaining: 8.69s\n",
      "257:\tlearn: 0.2408432\ttotal: 3.01s\tremaining: 8.67s\n",
      "258:\tlearn: 0.2406407\ttotal: 3.02s\tremaining: 8.65s\n",
      "259:\tlearn: 0.2403456\ttotal: 3.03s\tremaining: 8.63s\n",
      "260:\tlearn: 0.2402627\ttotal: 3.04s\tremaining: 8.62s\n",
      "261:\tlearn: 0.2400181\ttotal: 3.06s\tremaining: 8.61s\n",
      "262:\tlearn: 0.2398839\ttotal: 3.06s\tremaining: 8.59s\n",
      "263:\tlearn: 0.2396999\ttotal: 3.08s\tremaining: 8.57s\n",
      "264:\tlearn: 0.2395753\ttotal: 3.08s\tremaining: 8.55s\n",
      "265:\tlearn: 0.2394493\ttotal: 3.09s\tremaining: 8.54s\n",
      "266:\tlearn: 0.2394114\ttotal: 3.11s\tremaining: 8.53s\n",
      "267:\tlearn: 0.2392532\ttotal: 3.12s\tremaining: 8.52s\n",
      "268:\tlearn: 0.2392026\ttotal: 3.13s\tremaining: 8.5s\n",
      "269:\tlearn: 0.2391095\ttotal: 3.14s\tremaining: 8.48s\n",
      "270:\tlearn: 0.2389389\ttotal: 3.15s\tremaining: 8.46s\n",
      "271:\tlearn: 0.2388083\ttotal: 3.16s\tremaining: 8.45s\n",
      "272:\tlearn: 0.2384726\ttotal: 3.17s\tremaining: 8.43s\n",
      "273:\tlearn: 0.2383474\ttotal: 3.18s\tremaining: 8.42s\n",
      "274:\tlearn: 0.2382368\ttotal: 3.19s\tremaining: 8.4s\n",
      "275:\tlearn: 0.2381018\ttotal: 3.2s\tremaining: 8.39s\n",
      "276:\tlearn: 0.2378732\ttotal: 3.21s\tremaining: 8.37s\n",
      "277:\tlearn: 0.2378286\ttotal: 3.22s\tremaining: 8.36s\n",
      "278:\tlearn: 0.2377749\ttotal: 3.23s\tremaining: 8.35s\n",
      "279:\tlearn: 0.2376936\ttotal: 3.24s\tremaining: 8.33s\n",
      "280:\tlearn: 0.2376702\ttotal: 3.25s\tremaining: 8.31s\n",
      "281:\tlearn: 0.2375906\ttotal: 3.26s\tremaining: 8.29s\n",
      "282:\tlearn: 0.2375161\ttotal: 3.27s\tremaining: 8.27s\n",
      "283:\tlearn: 0.2373773\ttotal: 3.28s\tremaining: 8.26s\n",
      "284:\tlearn: 0.2372089\ttotal: 3.29s\tremaining: 8.24s\n",
      "285:\tlearn: 0.2370894\ttotal: 3.3s\tremaining: 8.23s\n",
      "286:\tlearn: 0.2369394\ttotal: 3.31s\tremaining: 8.22s\n",
      "287:\tlearn: 0.2367550\ttotal: 3.32s\tremaining: 8.21s\n",
      "288:\tlearn: 0.2366562\ttotal: 3.33s\tremaining: 8.19s\n",
      "289:\tlearn: 0.2364161\ttotal: 3.34s\tremaining: 8.18s\n",
      "290:\tlearn: 0.2362691\ttotal: 3.35s\tremaining: 8.17s\n",
      "291:\tlearn: 0.2362275\ttotal: 3.36s\tremaining: 8.15s\n",
      "292:\tlearn: 0.2361037\ttotal: 3.37s\tremaining: 8.14s\n",
      "293:\tlearn: 0.2359025\ttotal: 3.38s\tremaining: 8.12s\n",
      "294:\tlearn: 0.2355466\ttotal: 3.39s\tremaining: 8.11s\n",
      "295:\tlearn: 0.2353292\ttotal: 3.4s\tremaining: 8.1s\n",
      "296:\tlearn: 0.2352998\ttotal: 3.41s\tremaining: 8.08s\n",
      "297:\tlearn: 0.2351089\ttotal: 3.42s\tremaining: 8.07s\n",
      "298:\tlearn: 0.2350339\ttotal: 3.43s\tremaining: 8.05s\n",
      "299:\tlearn: 0.2348750\ttotal: 3.44s\tremaining: 8.03s\n",
      "300:\tlearn: 0.2345652\ttotal: 3.45s\tremaining: 8.02s\n",
      "301:\tlearn: 0.2344583\ttotal: 3.46s\tremaining: 8s\n",
      "302:\tlearn: 0.2343112\ttotal: 3.47s\tremaining: 7.99s\n",
      "303:\tlearn: 0.2342065\ttotal: 3.48s\tremaining: 7.97s\n",
      "304:\tlearn: 0.2340252\ttotal: 3.49s\tremaining: 7.95s\n",
      "305:\tlearn: 0.2338290\ttotal: 3.5s\tremaining: 7.94s\n",
      "306:\tlearn: 0.2337472\ttotal: 3.51s\tremaining: 7.93s\n",
      "307:\tlearn: 0.2336760\ttotal: 3.52s\tremaining: 7.92s\n",
      "308:\tlearn: 0.2334984\ttotal: 3.53s\tremaining: 7.9s\n",
      "309:\tlearn: 0.2332803\ttotal: 3.54s\tremaining: 7.88s\n",
      "310:\tlearn: 0.2331883\ttotal: 3.55s\tremaining: 7.87s\n",
      "311:\tlearn: 0.2330314\ttotal: 3.56s\tremaining: 7.86s\n",
      "312:\tlearn: 0.2329088\ttotal: 3.57s\tremaining: 7.84s\n",
      "313:\tlearn: 0.2325596\ttotal: 3.58s\tremaining: 7.83s\n",
      "314:\tlearn: 0.2324852\ttotal: 3.59s\tremaining: 7.81s\n",
      "315:\tlearn: 0.2322940\ttotal: 3.6s\tremaining: 7.8s\n",
      "316:\tlearn: 0.2321370\ttotal: 3.61s\tremaining: 7.78s\n",
      "317:\tlearn: 0.2318436\ttotal: 3.62s\tremaining: 7.77s\n",
      "318:\tlearn: 0.2318159\ttotal: 3.63s\tremaining: 7.75s\n",
      "319:\tlearn: 0.2316426\ttotal: 3.64s\tremaining: 7.74s\n",
      "320:\tlearn: 0.2316058\ttotal: 3.65s\tremaining: 7.72s\n",
      "321:\tlearn: 0.2313869\ttotal: 3.66s\tremaining: 7.71s\n",
      "322:\tlearn: 0.2312655\ttotal: 3.67s\tremaining: 7.69s\n",
      "323:\tlearn: 0.2312402\ttotal: 3.68s\tremaining: 7.68s\n",
      "324:\tlearn: 0.2311191\ttotal: 3.69s\tremaining: 7.66s\n",
      "325:\tlearn: 0.2310925\ttotal: 3.7s\tremaining: 7.65s\n",
      "326:\tlearn: 0.2308481\ttotal: 3.71s\tremaining: 7.64s\n",
      "327:\tlearn: 0.2307893\ttotal: 3.72s\tremaining: 7.63s\n",
      "328:\tlearn: 0.2305284\ttotal: 3.73s\tremaining: 7.61s\n",
      "329:\tlearn: 0.2304260\ttotal: 3.74s\tremaining: 7.6s\n",
      "330:\tlearn: 0.2303929\ttotal: 3.75s\tremaining: 7.58s\n",
      "331:\tlearn: 0.2302191\ttotal: 3.76s\tremaining: 7.57s\n",
      "332:\tlearn: 0.2301281\ttotal: 3.77s\tremaining: 7.55s\n",
      "333:\tlearn: 0.2298389\ttotal: 3.78s\tremaining: 7.54s\n",
      "334:\tlearn: 0.2297825\ttotal: 3.79s\tremaining: 7.53s\n",
      "335:\tlearn: 0.2296482\ttotal: 3.8s\tremaining: 7.51s\n",
      "336:\tlearn: 0.2295650\ttotal: 3.81s\tremaining: 7.5s\n",
      "337:\tlearn: 0.2293104\ttotal: 3.82s\tremaining: 7.48s\n",
      "338:\tlearn: 0.2291629\ttotal: 3.83s\tremaining: 7.47s\n",
      "339:\tlearn: 0.2289728\ttotal: 3.84s\tremaining: 7.46s\n",
      "340:\tlearn: 0.2288921\ttotal: 3.85s\tremaining: 7.44s\n",
      "341:\tlearn: 0.2285508\ttotal: 3.86s\tremaining: 7.42s\n",
      "342:\tlearn: 0.2283785\ttotal: 3.87s\tremaining: 7.41s\n",
      "343:\tlearn: 0.2282970\ttotal: 3.88s\tremaining: 7.4s\n",
      "344:\tlearn: 0.2282052\ttotal: 3.89s\tremaining: 7.39s\n",
      "345:\tlearn: 0.2281281\ttotal: 3.9s\tremaining: 7.38s\n",
      "346:\tlearn: 0.2280138\ttotal: 3.92s\tremaining: 7.37s\n",
      "347:\tlearn: 0.2279761\ttotal: 3.92s\tremaining: 7.35s\n",
      "348:\tlearn: 0.2278430\ttotal: 3.94s\tremaining: 7.34s\n",
      "349:\tlearn: 0.2277305\ttotal: 3.95s\tremaining: 7.33s\n",
      "350:\tlearn: 0.2275517\ttotal: 3.96s\tremaining: 7.32s\n",
      "351:\tlearn: 0.2274617\ttotal: 3.97s\tremaining: 7.3s\n",
      "352:\tlearn: 0.2273500\ttotal: 3.98s\tremaining: 7.29s\n",
      "353:\tlearn: 0.2272645\ttotal: 3.99s\tremaining: 7.27s\n",
      "354:\tlearn: 0.2271188\ttotal: 4s\tremaining: 7.26s\n",
      "355:\tlearn: 0.2270703\ttotal: 4.01s\tremaining: 7.25s\n",
      "356:\tlearn: 0.2270421\ttotal: 4.02s\tremaining: 7.23s\n",
      "357:\tlearn: 0.2270133\ttotal: 4.03s\tremaining: 7.22s\n",
      "358:\tlearn: 0.2269359\ttotal: 4.04s\tremaining: 7.21s\n",
      "359:\tlearn: 0.2267860\ttotal: 4.05s\tremaining: 7.19s\n",
      "360:\tlearn: 0.2264331\ttotal: 4.05s\tremaining: 7.18s\n",
      "361:\tlearn: 0.2259483\ttotal: 4.07s\tremaining: 7.16s\n",
      "362:\tlearn: 0.2258707\ttotal: 4.08s\tremaining: 7.15s\n",
      "363:\tlearn: 0.2256960\ttotal: 4.09s\tremaining: 7.14s\n",
      "364:\tlearn: 0.2255911\ttotal: 4.09s\tremaining: 7.13s\n",
      "365:\tlearn: 0.2253231\ttotal: 4.11s\tremaining: 7.11s\n",
      "366:\tlearn: 0.2252269\ttotal: 4.12s\tremaining: 7.11s\n",
      "367:\tlearn: 0.2249067\ttotal: 4.13s\tremaining: 7.09s\n",
      "368:\tlearn: 0.2247724\ttotal: 4.14s\tremaining: 7.08s\n",
      "369:\tlearn: 0.2245829\ttotal: 4.15s\tremaining: 7.07s\n",
      "370:\tlearn: 0.2245213\ttotal: 4.16s\tremaining: 7.06s\n",
      "371:\tlearn: 0.2244457\ttotal: 4.17s\tremaining: 7.05s\n",
      "372:\tlearn: 0.2243193\ttotal: 4.18s\tremaining: 7.03s\n",
      "373:\tlearn: 0.2242113\ttotal: 4.19s\tremaining: 7.02s\n",
      "374:\tlearn: 0.2237903\ttotal: 4.2s\tremaining: 7.01s\n",
      "375:\tlearn: 0.2237158\ttotal: 4.21s\tremaining: 6.99s\n",
      "376:\tlearn: 0.2235833\ttotal: 4.22s\tremaining: 6.98s\n",
      "377:\tlearn: 0.2234015\ttotal: 4.23s\tremaining: 6.97s\n",
      "378:\tlearn: 0.2232121\ttotal: 4.24s\tremaining: 6.95s\n",
      "379:\tlearn: 0.2230977\ttotal: 4.25s\tremaining: 6.94s\n",
      "380:\tlearn: 0.2230430\ttotal: 4.26s\tremaining: 6.93s\n",
      "381:\tlearn: 0.2230206\ttotal: 4.27s\tremaining: 6.91s\n",
      "382:\tlearn: 0.2229778\ttotal: 4.28s\tremaining: 6.9s\n",
      "383:\tlearn: 0.2229193\ttotal: 4.29s\tremaining: 6.89s\n",
      "384:\tlearn: 0.2227464\ttotal: 4.3s\tremaining: 6.88s\n",
      "385:\tlearn: 0.2225576\ttotal: 4.31s\tremaining: 6.86s\n",
      "386:\tlearn: 0.2224087\ttotal: 4.33s\tremaining: 6.85s\n",
      "387:\tlearn: 0.2221848\ttotal: 4.34s\tremaining: 6.84s\n",
      "388:\tlearn: 0.2220706\ttotal: 4.35s\tremaining: 6.83s\n",
      "389:\tlearn: 0.2219453\ttotal: 4.36s\tremaining: 6.82s\n",
      "390:\tlearn: 0.2218029\ttotal: 4.37s\tremaining: 6.8s\n",
      "391:\tlearn: 0.2216487\ttotal: 4.38s\tremaining: 6.79s\n",
      "392:\tlearn: 0.2214684\ttotal: 4.39s\tremaining: 6.78s\n",
      "393:\tlearn: 0.2212631\ttotal: 4.4s\tremaining: 6.77s\n",
      "394:\tlearn: 0.2212460\ttotal: 4.41s\tremaining: 6.75s\n",
      "395:\tlearn: 0.2211501\ttotal: 4.42s\tremaining: 6.74s\n",
      "396:\tlearn: 0.2209468\ttotal: 4.43s\tremaining: 6.73s\n",
      "397:\tlearn: 0.2209146\ttotal: 4.44s\tremaining: 6.72s\n",
      "398:\tlearn: 0.2208530\ttotal: 4.45s\tremaining: 6.7s\n",
      "399:\tlearn: 0.2207573\ttotal: 4.46s\tremaining: 6.69s\n",
      "400:\tlearn: 0.2206895\ttotal: 4.47s\tremaining: 6.68s\n",
      "401:\tlearn: 0.2206451\ttotal: 4.48s\tremaining: 6.67s\n",
      "402:\tlearn: 0.2203954\ttotal: 4.49s\tremaining: 6.66s\n",
      "403:\tlearn: 0.2202512\ttotal: 4.5s\tremaining: 6.64s\n",
      "404:\tlearn: 0.2200593\ttotal: 4.51s\tremaining: 6.63s\n",
      "405:\tlearn: 0.2199690\ttotal: 4.52s\tremaining: 6.62s\n",
      "406:\tlearn: 0.2197293\ttotal: 4.54s\tremaining: 6.61s\n",
      "407:\tlearn: 0.2196909\ttotal: 4.54s\tremaining: 6.6s\n",
      "408:\tlearn: 0.2195269\ttotal: 4.56s\tremaining: 6.58s\n",
      "409:\tlearn: 0.2194775\ttotal: 4.57s\tremaining: 6.57s\n",
      "410:\tlearn: 0.2194441\ttotal: 4.58s\tremaining: 6.56s\n",
      "411:\tlearn: 0.2193639\ttotal: 4.59s\tremaining: 6.55s\n",
      "412:\tlearn: 0.2192950\ttotal: 4.6s\tremaining: 6.54s\n",
      "413:\tlearn: 0.2189947\ttotal: 4.61s\tremaining: 6.53s\n",
      "414:\tlearn: 0.2188459\ttotal: 4.62s\tremaining: 6.52s\n",
      "415:\tlearn: 0.2187994\ttotal: 4.63s\tremaining: 6.5s\n",
      "416:\tlearn: 0.2186448\ttotal: 4.64s\tremaining: 6.49s\n",
      "417:\tlearn: 0.2186223\ttotal: 4.66s\tremaining: 6.48s\n",
      "418:\tlearn: 0.2185767\ttotal: 4.67s\tremaining: 6.47s\n",
      "419:\tlearn: 0.2184366\ttotal: 4.68s\tremaining: 6.46s\n",
      "420:\tlearn: 0.2183215\ttotal: 4.69s\tremaining: 6.45s\n",
      "421:\tlearn: 0.2182153\ttotal: 4.7s\tremaining: 6.43s\n",
      "422:\tlearn: 0.2180718\ttotal: 4.71s\tremaining: 6.42s\n",
      "423:\tlearn: 0.2178807\ttotal: 4.72s\tremaining: 6.41s\n",
      "424:\tlearn: 0.2175698\ttotal: 4.73s\tremaining: 6.4s\n",
      "425:\tlearn: 0.2175491\ttotal: 4.74s\tremaining: 6.39s\n",
      "426:\tlearn: 0.2175235\ttotal: 4.75s\tremaining: 6.37s\n",
      "427:\tlearn: 0.2174223\ttotal: 4.76s\tremaining: 6.36s\n",
      "428:\tlearn: 0.2173534\ttotal: 4.77s\tremaining: 6.35s\n",
      "429:\tlearn: 0.2172193\ttotal: 4.78s\tremaining: 6.34s\n",
      "430:\tlearn: 0.2170392\ttotal: 4.79s\tremaining: 6.32s\n",
      "431:\tlearn: 0.2168898\ttotal: 4.8s\tremaining: 6.31s\n",
      "432:\tlearn: 0.2168266\ttotal: 4.81s\tremaining: 6.3s\n",
      "433:\tlearn: 0.2166420\ttotal: 4.82s\tremaining: 6.28s\n",
      "434:\tlearn: 0.2163465\ttotal: 4.83s\tremaining: 6.27s\n",
      "435:\tlearn: 0.2163283\ttotal: 4.84s\tremaining: 6.26s\n",
      "436:\tlearn: 0.2162633\ttotal: 4.85s\tremaining: 6.25s\n",
      "437:\tlearn: 0.2160661\ttotal: 4.86s\tremaining: 6.24s\n",
      "438:\tlearn: 0.2159506\ttotal: 4.87s\tremaining: 6.22s\n",
      "439:\tlearn: 0.2157623\ttotal: 4.88s\tremaining: 6.21s\n",
      "440:\tlearn: 0.2156120\ttotal: 4.89s\tremaining: 6.2s\n",
      "441:\tlearn: 0.2155058\ttotal: 4.9s\tremaining: 6.19s\n",
      "442:\tlearn: 0.2153687\ttotal: 4.91s\tremaining: 6.17s\n",
      "443:\tlearn: 0.2150896\ttotal: 4.92s\tremaining: 6.16s\n",
      "444:\tlearn: 0.2148192\ttotal: 4.93s\tremaining: 6.15s\n",
      "445:\tlearn: 0.2148090\ttotal: 4.94s\tremaining: 6.14s\n",
      "446:\tlearn: 0.2147766\ttotal: 4.95s\tremaining: 6.13s\n",
      "447:\tlearn: 0.2146795\ttotal: 4.96s\tremaining: 6.12s\n",
      "448:\tlearn: 0.2145397\ttotal: 4.97s\tremaining: 6.11s\n",
      "449:\tlearn: 0.2143904\ttotal: 4.99s\tremaining: 6.09s\n",
      "450:\tlearn: 0.2142778\ttotal: 5s\tremaining: 6.08s\n",
      "451:\tlearn: 0.2141978\ttotal: 5.01s\tremaining: 6.07s\n",
      "452:\tlearn: 0.2140356\ttotal: 5.02s\tremaining: 6.06s\n",
      "453:\tlearn: 0.2138696\ttotal: 5.03s\tremaining: 6.04s\n",
      "454:\tlearn: 0.2136742\ttotal: 5.04s\tremaining: 6.03s\n",
      "455:\tlearn: 0.2135263\ttotal: 5.05s\tremaining: 6.02s\n",
      "456:\tlearn: 0.2134734\ttotal: 5.06s\tremaining: 6.01s\n",
      "457:\tlearn: 0.2134100\ttotal: 5.07s\tremaining: 6s\n",
      "458:\tlearn: 0.2133975\ttotal: 5.08s\tremaining: 5.98s\n",
      "459:\tlearn: 0.2133035\ttotal: 5.09s\tremaining: 5.97s\n",
      "460:\tlearn: 0.2130859\ttotal: 5.1s\tremaining: 5.96s\n",
      "461:\tlearn: 0.2130164\ttotal: 5.11s\tremaining: 5.95s\n",
      "462:\tlearn: 0.2126647\ttotal: 5.12s\tremaining: 5.94s\n",
      "463:\tlearn: 0.2125837\ttotal: 5.13s\tremaining: 5.92s\n",
      "464:\tlearn: 0.2125315\ttotal: 5.14s\tremaining: 5.92s\n",
      "465:\tlearn: 0.2124761\ttotal: 5.15s\tremaining: 5.9s\n",
      "466:\tlearn: 0.2123889\ttotal: 5.16s\tremaining: 5.89s\n",
      "467:\tlearn: 0.2123719\ttotal: 5.17s\tremaining: 5.88s\n",
      "468:\tlearn: 0.2123144\ttotal: 5.18s\tremaining: 5.87s\n",
      "469:\tlearn: 0.2122537\ttotal: 5.2s\tremaining: 5.86s\n",
      "470:\tlearn: 0.2121950\ttotal: 5.2s\tremaining: 5.84s\n",
      "471:\tlearn: 0.2120241\ttotal: 5.21s\tremaining: 5.83s\n",
      "472:\tlearn: 0.2119540\ttotal: 5.22s\tremaining: 5.82s\n",
      "473:\tlearn: 0.2118534\ttotal: 5.24s\tremaining: 5.81s\n",
      "474:\tlearn: 0.2117926\ttotal: 5.25s\tremaining: 5.8s\n",
      "475:\tlearn: 0.2117287\ttotal: 5.26s\tremaining: 5.79s\n",
      "476:\tlearn: 0.2116433\ttotal: 5.27s\tremaining: 5.78s\n",
      "477:\tlearn: 0.2115507\ttotal: 5.28s\tremaining: 5.76s\n",
      "478:\tlearn: 0.2111220\ttotal: 5.29s\tremaining: 5.75s\n",
      "479:\tlearn: 0.2111085\ttotal: 5.3s\tremaining: 5.74s\n",
      "480:\tlearn: 0.2110642\ttotal: 5.31s\tremaining: 5.73s\n",
      "481:\tlearn: 0.2109697\ttotal: 5.32s\tremaining: 5.72s\n",
      "482:\tlearn: 0.2109006\ttotal: 5.33s\tremaining: 5.71s\n",
      "483:\tlearn: 0.2108197\ttotal: 5.34s\tremaining: 5.7s\n",
      "484:\tlearn: 0.2107800\ttotal: 5.35s\tremaining: 5.68s\n",
      "485:\tlearn: 0.2107345\ttotal: 5.36s\tremaining: 5.67s\n",
      "486:\tlearn: 0.2107097\ttotal: 5.37s\tremaining: 5.66s\n",
      "487:\tlearn: 0.2106439\ttotal: 5.38s\tremaining: 5.65s\n",
      "488:\tlearn: 0.2104901\ttotal: 5.4s\tremaining: 5.64s\n",
      "489:\tlearn: 0.2103766\ttotal: 5.41s\tremaining: 5.63s\n",
      "490:\tlearn: 0.2102147\ttotal: 5.42s\tremaining: 5.61s\n",
      "491:\tlearn: 0.2102084\ttotal: 5.42s\tremaining: 5.6s\n",
      "492:\tlearn: 0.2100913\ttotal: 5.43s\tremaining: 5.59s\n",
      "493:\tlearn: 0.2099717\ttotal: 5.44s\tremaining: 5.58s\n",
      "494:\tlearn: 0.2099373\ttotal: 5.45s\tremaining: 5.56s\n",
      "495:\tlearn: 0.2098276\ttotal: 5.46s\tremaining: 5.55s\n",
      "496:\tlearn: 0.2097774\ttotal: 5.47s\tremaining: 5.54s\n",
      "497:\tlearn: 0.2095817\ttotal: 5.49s\tremaining: 5.53s\n",
      "498:\tlearn: 0.2094963\ttotal: 5.5s\tremaining: 5.52s\n",
      "499:\tlearn: 0.2094094\ttotal: 5.51s\tremaining: 5.51s\n",
      "500:\tlearn: 0.2093398\ttotal: 5.52s\tremaining: 5.5s\n",
      "501:\tlearn: 0.2092783\ttotal: 5.53s\tremaining: 5.49s\n",
      "502:\tlearn: 0.2091563\ttotal: 5.54s\tremaining: 5.47s\n",
      "503:\tlearn: 0.2091509\ttotal: 5.55s\tremaining: 5.46s\n",
      "504:\tlearn: 0.2090557\ttotal: 5.56s\tremaining: 5.45s\n",
      "505:\tlearn: 0.2089467\ttotal: 5.57s\tremaining: 5.44s\n",
      "506:\tlearn: 0.2088922\ttotal: 5.58s\tremaining: 5.43s\n",
      "507:\tlearn: 0.2088094\ttotal: 5.59s\tremaining: 5.42s\n",
      "508:\tlearn: 0.2087299\ttotal: 5.6s\tremaining: 5.4s\n",
      "509:\tlearn: 0.2085227\ttotal: 5.61s\tremaining: 5.39s\n",
      "510:\tlearn: 0.2084698\ttotal: 5.62s\tremaining: 5.38s\n",
      "511:\tlearn: 0.2081019\ttotal: 5.63s\tremaining: 5.37s\n",
      "512:\tlearn: 0.2080170\ttotal: 5.64s\tremaining: 5.36s\n",
      "513:\tlearn: 0.2079615\ttotal: 5.65s\tremaining: 5.35s\n",
      "514:\tlearn: 0.2078627\ttotal: 5.66s\tremaining: 5.33s\n",
      "515:\tlearn: 0.2076779\ttotal: 5.67s\tremaining: 5.32s\n",
      "516:\tlearn: 0.2076007\ttotal: 5.68s\tremaining: 5.31s\n",
      "517:\tlearn: 0.2075517\ttotal: 5.69s\tremaining: 5.3s\n",
      "518:\tlearn: 0.2074569\ttotal: 5.7s\tremaining: 5.28s\n",
      "519:\tlearn: 0.2073523\ttotal: 5.71s\tremaining: 5.27s\n",
      "520:\tlearn: 0.2072334\ttotal: 5.72s\tremaining: 5.26s\n",
      "521:\tlearn: 0.2070985\ttotal: 5.73s\tremaining: 5.25s\n",
      "522:\tlearn: 0.2070563\ttotal: 5.74s\tremaining: 5.24s\n",
      "523:\tlearn: 0.2070039\ttotal: 5.76s\tremaining: 5.23s\n",
      "524:\tlearn: 0.2069638\ttotal: 5.77s\tremaining: 5.22s\n",
      "525:\tlearn: 0.2068999\ttotal: 5.78s\tremaining: 5.21s\n",
      "526:\tlearn: 0.2068145\ttotal: 5.79s\tremaining: 5.2s\n",
      "527:\tlearn: 0.2067518\ttotal: 5.8s\tremaining: 5.18s\n",
      "528:\tlearn: 0.2066135\ttotal: 5.81s\tremaining: 5.17s\n",
      "529:\tlearn: 0.2065216\ttotal: 5.82s\tremaining: 5.16s\n",
      "530:\tlearn: 0.2064457\ttotal: 5.83s\tremaining: 5.15s\n",
      "531:\tlearn: 0.2064084\ttotal: 5.84s\tremaining: 5.14s\n",
      "532:\tlearn: 0.2063794\ttotal: 5.85s\tremaining: 5.13s\n",
      "533:\tlearn: 0.2063335\ttotal: 5.86s\tremaining: 5.12s\n",
      "534:\tlearn: 0.2062354\ttotal: 5.87s\tremaining: 5.1s\n",
      "535:\tlearn: 0.2062191\ttotal: 5.88s\tremaining: 5.09s\n",
      "536:\tlearn: 0.2061743\ttotal: 5.89s\tremaining: 5.08s\n",
      "537:\tlearn: 0.2060399\ttotal: 5.9s\tremaining: 5.07s\n",
      "538:\tlearn: 0.2059792\ttotal: 5.91s\tremaining: 5.06s\n",
      "539:\tlearn: 0.2057934\ttotal: 5.92s\tremaining: 5.05s\n",
      "540:\tlearn: 0.2057352\ttotal: 5.93s\tremaining: 5.03s\n",
      "541:\tlearn: 0.2056857\ttotal: 5.94s\tremaining: 5.02s\n",
      "542:\tlearn: 0.2055860\ttotal: 5.95s\tremaining: 5.01s\n",
      "543:\tlearn: 0.2055574\ttotal: 5.97s\tremaining: 5s\n",
      "544:\tlearn: 0.2054562\ttotal: 5.98s\tremaining: 4.99s\n",
      "545:\tlearn: 0.2054145\ttotal: 5.99s\tremaining: 4.98s\n",
      "546:\tlearn: 0.2053290\ttotal: 6s\tremaining: 4.97s\n",
      "547:\tlearn: 0.2052108\ttotal: 6.01s\tremaining: 4.96s\n",
      "548:\tlearn: 0.2051569\ttotal: 6.02s\tremaining: 4.95s\n",
      "549:\tlearn: 0.2050828\ttotal: 6.03s\tremaining: 4.93s\n",
      "550:\tlearn: 0.2050133\ttotal: 6.04s\tremaining: 4.92s\n",
      "551:\tlearn: 0.2049119\ttotal: 6.05s\tremaining: 4.91s\n",
      "552:\tlearn: 0.2048239\ttotal: 6.07s\tremaining: 4.9s\n",
      "553:\tlearn: 0.2047385\ttotal: 6.07s\tremaining: 4.89s\n",
      "554:\tlearn: 0.2046435\ttotal: 6.08s\tremaining: 4.88s\n",
      "555:\tlearn: 0.2045809\ttotal: 6.09s\tremaining: 4.87s\n",
      "556:\tlearn: 0.2044238\ttotal: 6.11s\tremaining: 4.86s\n",
      "557:\tlearn: 0.2043743\ttotal: 6.12s\tremaining: 4.85s\n",
      "558:\tlearn: 0.2042982\ttotal: 6.13s\tremaining: 4.83s\n",
      "559:\tlearn: 0.2041610\ttotal: 6.14s\tremaining: 4.82s\n",
      "560:\tlearn: 0.2040443\ttotal: 6.15s\tremaining: 4.81s\n",
      "561:\tlearn: 0.2039769\ttotal: 6.16s\tremaining: 4.8s\n",
      "562:\tlearn: 0.2039683\ttotal: 6.17s\tremaining: 4.79s\n",
      "563:\tlearn: 0.2038859\ttotal: 6.18s\tremaining: 4.78s\n",
      "564:\tlearn: 0.2034941\ttotal: 6.19s\tremaining: 4.77s\n",
      "565:\tlearn: 0.2033967\ttotal: 6.2s\tremaining: 4.76s\n",
      "566:\tlearn: 0.2033266\ttotal: 6.21s\tremaining: 4.75s\n",
      "567:\tlearn: 0.2033153\ttotal: 6.22s\tremaining: 4.73s\n",
      "568:\tlearn: 0.2032381\ttotal: 6.24s\tremaining: 4.72s\n",
      "569:\tlearn: 0.2029861\ttotal: 6.25s\tremaining: 4.71s\n",
      "570:\tlearn: 0.2029490\ttotal: 6.26s\tremaining: 4.7s\n",
      "571:\tlearn: 0.2029098\ttotal: 6.27s\tremaining: 4.69s\n",
      "572:\tlearn: 0.2028356\ttotal: 6.28s\tremaining: 4.68s\n",
      "573:\tlearn: 0.2027743\ttotal: 6.29s\tremaining: 4.67s\n",
      "574:\tlearn: 0.2026314\ttotal: 6.3s\tremaining: 4.66s\n",
      "575:\tlearn: 0.2025646\ttotal: 6.31s\tremaining: 4.64s\n",
      "576:\tlearn: 0.2024762\ttotal: 6.32s\tremaining: 4.63s\n",
      "577:\tlearn: 0.2024113\ttotal: 6.33s\tremaining: 4.62s\n",
      "578:\tlearn: 0.2023588\ttotal: 6.34s\tremaining: 4.61s\n",
      "579:\tlearn: 0.2021553\ttotal: 6.35s\tremaining: 4.6s\n",
      "580:\tlearn: 0.2020886\ttotal: 6.36s\tremaining: 4.59s\n",
      "581:\tlearn: 0.2020688\ttotal: 6.37s\tremaining: 4.58s\n",
      "582:\tlearn: 0.2019884\ttotal: 6.39s\tremaining: 4.57s\n",
      "583:\tlearn: 0.2019629\ttotal: 6.39s\tremaining: 4.55s\n",
      "584:\tlearn: 0.2018747\ttotal: 6.4s\tremaining: 4.54s\n",
      "585:\tlearn: 0.2018112\ttotal: 6.41s\tremaining: 4.53s\n",
      "586:\tlearn: 0.2017264\ttotal: 6.42s\tremaining: 4.52s\n",
      "587:\tlearn: 0.2016620\ttotal: 6.43s\tremaining: 4.51s\n",
      "588:\tlearn: 0.2015754\ttotal: 6.45s\tremaining: 4.5s\n",
      "589:\tlearn: 0.2015126\ttotal: 6.45s\tremaining: 4.49s\n",
      "590:\tlearn: 0.2014651\ttotal: 6.46s\tremaining: 4.47s\n",
      "591:\tlearn: 0.2013842\ttotal: 6.47s\tremaining: 4.46s\n",
      "592:\tlearn: 0.2012558\ttotal: 6.48s\tremaining: 4.45s\n",
      "593:\tlearn: 0.2011886\ttotal: 6.5s\tremaining: 4.44s\n",
      "594:\tlearn: 0.2009716\ttotal: 6.51s\tremaining: 4.43s\n",
      "595:\tlearn: 0.2006972\ttotal: 6.52s\tremaining: 4.42s\n",
      "596:\tlearn: 0.2004221\ttotal: 6.53s\tremaining: 4.41s\n",
      "597:\tlearn: 0.2003687\ttotal: 6.54s\tremaining: 4.39s\n",
      "598:\tlearn: 0.2003300\ttotal: 6.55s\tremaining: 4.38s\n",
      "599:\tlearn: 0.2002777\ttotal: 6.56s\tremaining: 4.37s\n",
      "600:\tlearn: 0.2001184\ttotal: 6.57s\tremaining: 4.36s\n",
      "601:\tlearn: 0.2000268\ttotal: 6.58s\tremaining: 4.35s\n",
      "602:\tlearn: 0.1999330\ttotal: 6.59s\tremaining: 4.34s\n",
      "603:\tlearn: 0.1999218\ttotal: 6.6s\tremaining: 4.33s\n",
      "604:\tlearn: 0.1996860\ttotal: 6.61s\tremaining: 4.32s\n",
      "605:\tlearn: 0.1996275\ttotal: 6.62s\tremaining: 4.3s\n",
      "606:\tlearn: 0.1994591\ttotal: 6.63s\tremaining: 4.29s\n",
      "607:\tlearn: 0.1992328\ttotal: 6.64s\tremaining: 4.28s\n",
      "608:\tlearn: 0.1991237\ttotal: 6.65s\tremaining: 4.27s\n",
      "609:\tlearn: 0.1990593\ttotal: 6.66s\tremaining: 4.26s\n",
      "610:\tlearn: 0.1989950\ttotal: 6.67s\tremaining: 4.25s\n",
      "611:\tlearn: 0.1988373\ttotal: 6.68s\tremaining: 4.24s\n",
      "612:\tlearn: 0.1987646\ttotal: 6.69s\tremaining: 4.22s\n",
      "613:\tlearn: 0.1986613\ttotal: 6.7s\tremaining: 4.21s\n",
      "614:\tlearn: 0.1985675\ttotal: 6.71s\tremaining: 4.2s\n",
      "615:\tlearn: 0.1984804\ttotal: 6.72s\tremaining: 4.19s\n",
      "616:\tlearn: 0.1983648\ttotal: 6.73s\tremaining: 4.18s\n",
      "617:\tlearn: 0.1982899\ttotal: 6.74s\tremaining: 4.17s\n",
      "618:\tlearn: 0.1982103\ttotal: 6.75s\tremaining: 4.16s\n",
      "619:\tlearn: 0.1981762\ttotal: 6.76s\tremaining: 4.14s\n",
      "620:\tlearn: 0.1980941\ttotal: 6.77s\tremaining: 4.13s\n",
      "621:\tlearn: 0.1980119\ttotal: 6.78s\tremaining: 4.12s\n",
      "622:\tlearn: 0.1979422\ttotal: 6.79s\tremaining: 4.11s\n",
      "623:\tlearn: 0.1978767\ttotal: 6.8s\tremaining: 4.1s\n",
      "624:\tlearn: 0.1977026\ttotal: 6.81s\tremaining: 4.09s\n",
      "625:\tlearn: 0.1976635\ttotal: 6.82s\tremaining: 4.08s\n",
      "626:\tlearn: 0.1976530\ttotal: 6.83s\tremaining: 4.07s\n",
      "627:\tlearn: 0.1975685\ttotal: 6.84s\tremaining: 4.05s\n",
      "628:\tlearn: 0.1974572\ttotal: 6.85s\tremaining: 4.04s\n",
      "629:\tlearn: 0.1974275\ttotal: 6.86s\tremaining: 4.03s\n",
      "630:\tlearn: 0.1973233\ttotal: 6.88s\tremaining: 4.02s\n",
      "631:\tlearn: 0.1972129\ttotal: 6.88s\tremaining: 4.01s\n",
      "632:\tlearn: 0.1971205\ttotal: 6.9s\tremaining: 4s\n",
      "633:\tlearn: 0.1970433\ttotal: 6.91s\tremaining: 3.99s\n",
      "634:\tlearn: 0.1969507\ttotal: 6.92s\tremaining: 3.98s\n",
      "635:\tlearn: 0.1967374\ttotal: 6.93s\tremaining: 3.96s\n",
      "636:\tlearn: 0.1967099\ttotal: 6.94s\tremaining: 3.95s\n",
      "637:\tlearn: 0.1965801\ttotal: 6.95s\tremaining: 3.94s\n",
      "638:\tlearn: 0.1965628\ttotal: 6.96s\tremaining: 3.93s\n",
      "639:\tlearn: 0.1964957\ttotal: 6.97s\tremaining: 3.92s\n",
      "640:\tlearn: 0.1963063\ttotal: 6.98s\tremaining: 3.91s\n",
      "641:\tlearn: 0.1961191\ttotal: 6.99s\tremaining: 3.9s\n",
      "642:\tlearn: 0.1959911\ttotal: 7s\tremaining: 3.89s\n",
      "643:\tlearn: 0.1959005\ttotal: 7.01s\tremaining: 3.88s\n",
      "644:\tlearn: 0.1958528\ttotal: 7.02s\tremaining: 3.87s\n",
      "645:\tlearn: 0.1957785\ttotal: 7.04s\tremaining: 3.86s\n",
      "646:\tlearn: 0.1957125\ttotal: 7.05s\tremaining: 3.85s\n",
      "647:\tlearn: 0.1955551\ttotal: 7.06s\tremaining: 3.83s\n",
      "648:\tlearn: 0.1954893\ttotal: 7.07s\tremaining: 3.82s\n",
      "649:\tlearn: 0.1954681\ttotal: 7.08s\tremaining: 3.81s\n",
      "650:\tlearn: 0.1953909\ttotal: 7.09s\tremaining: 3.8s\n",
      "651:\tlearn: 0.1952817\ttotal: 7.1s\tremaining: 3.79s\n",
      "652:\tlearn: 0.1952339\ttotal: 7.11s\tremaining: 3.78s\n",
      "653:\tlearn: 0.1951367\ttotal: 7.12s\tremaining: 3.77s\n",
      "654:\tlearn: 0.1950764\ttotal: 7.13s\tremaining: 3.75s\n",
      "655:\tlearn: 0.1950485\ttotal: 7.14s\tremaining: 3.74s\n",
      "656:\tlearn: 0.1949143\ttotal: 7.15s\tremaining: 3.73s\n",
      "657:\tlearn: 0.1948735\ttotal: 7.16s\tremaining: 3.72s\n",
      "658:\tlearn: 0.1947864\ttotal: 7.17s\tremaining: 3.71s\n",
      "659:\tlearn: 0.1947114\ttotal: 7.18s\tremaining: 3.7s\n",
      "660:\tlearn: 0.1946485\ttotal: 7.2s\tremaining: 3.69s\n",
      "661:\tlearn: 0.1946084\ttotal: 7.21s\tremaining: 3.68s\n",
      "662:\tlearn: 0.1943984\ttotal: 7.22s\tremaining: 3.67s\n",
      "663:\tlearn: 0.1943282\ttotal: 7.23s\tremaining: 3.66s\n",
      "664:\tlearn: 0.1942259\ttotal: 7.24s\tremaining: 3.65s\n",
      "665:\tlearn: 0.1941759\ttotal: 7.25s\tremaining: 3.63s\n",
      "666:\tlearn: 0.1941332\ttotal: 7.26s\tremaining: 3.62s\n",
      "667:\tlearn: 0.1940605\ttotal: 7.27s\tremaining: 3.61s\n",
      "668:\tlearn: 0.1939685\ttotal: 7.28s\tremaining: 3.6s\n",
      "669:\tlearn: 0.1938805\ttotal: 7.29s\tremaining: 3.59s\n",
      "670:\tlearn: 0.1938097\ttotal: 7.3s\tremaining: 3.58s\n",
      "671:\tlearn: 0.1937428\ttotal: 7.31s\tremaining: 3.57s\n",
      "672:\tlearn: 0.1936241\ttotal: 7.32s\tremaining: 3.56s\n",
      "673:\tlearn: 0.1934585\ttotal: 7.33s\tremaining: 3.54s\n",
      "674:\tlearn: 0.1932782\ttotal: 7.34s\tremaining: 3.53s\n",
      "675:\tlearn: 0.1931411\ttotal: 7.35s\tremaining: 3.52s\n",
      "676:\tlearn: 0.1931126\ttotal: 7.36s\tremaining: 3.51s\n",
      "677:\tlearn: 0.1930430\ttotal: 7.37s\tremaining: 3.5s\n",
      "678:\tlearn: 0.1929950\ttotal: 7.38s\tremaining: 3.49s\n",
      "679:\tlearn: 0.1929253\ttotal: 7.39s\tremaining: 3.48s\n",
      "680:\tlearn: 0.1927728\ttotal: 7.41s\tremaining: 3.47s\n",
      "681:\tlearn: 0.1927025\ttotal: 7.42s\tremaining: 3.46s\n",
      "682:\tlearn: 0.1926693\ttotal: 7.43s\tremaining: 3.45s\n",
      "683:\tlearn: 0.1925961\ttotal: 7.44s\tremaining: 3.44s\n",
      "684:\tlearn: 0.1925467\ttotal: 7.45s\tremaining: 3.43s\n",
      "685:\tlearn: 0.1924689\ttotal: 7.46s\tremaining: 3.42s\n",
      "686:\tlearn: 0.1923594\ttotal: 7.47s\tremaining: 3.4s\n",
      "687:\tlearn: 0.1923423\ttotal: 7.48s\tremaining: 3.39s\n",
      "688:\tlearn: 0.1922804\ttotal: 7.49s\tremaining: 3.38s\n",
      "689:\tlearn: 0.1920644\ttotal: 7.5s\tremaining: 3.37s\n",
      "690:\tlearn: 0.1920378\ttotal: 7.51s\tremaining: 3.36s\n",
      "691:\tlearn: 0.1919597\ttotal: 7.53s\tremaining: 3.35s\n",
      "692:\tlearn: 0.1919282\ttotal: 7.54s\tremaining: 3.34s\n",
      "693:\tlearn: 0.1918998\ttotal: 7.55s\tremaining: 3.33s\n",
      "694:\tlearn: 0.1918798\ttotal: 7.56s\tremaining: 3.32s\n",
      "695:\tlearn: 0.1918256\ttotal: 7.57s\tremaining: 3.31s\n",
      "696:\tlearn: 0.1917433\ttotal: 7.58s\tremaining: 3.29s\n",
      "697:\tlearn: 0.1916744\ttotal: 7.59s\tremaining: 3.28s\n",
      "698:\tlearn: 0.1916598\ttotal: 7.6s\tremaining: 3.27s\n",
      "699:\tlearn: 0.1915913\ttotal: 7.61s\tremaining: 3.26s\n",
      "700:\tlearn: 0.1915770\ttotal: 7.62s\tremaining: 3.25s\n",
      "701:\tlearn: 0.1914238\ttotal: 7.63s\tremaining: 3.24s\n",
      "702:\tlearn: 0.1913736\ttotal: 7.64s\tremaining: 3.23s\n",
      "703:\tlearn: 0.1912655\ttotal: 7.65s\tremaining: 3.22s\n",
      "704:\tlearn: 0.1912267\ttotal: 7.66s\tremaining: 3.21s\n",
      "705:\tlearn: 0.1912107\ttotal: 7.67s\tremaining: 3.19s\n",
      "706:\tlearn: 0.1911799\ttotal: 7.68s\tremaining: 3.18s\n",
      "707:\tlearn: 0.1911047\ttotal: 7.69s\tremaining: 3.17s\n",
      "708:\tlearn: 0.1909209\ttotal: 7.7s\tremaining: 3.16s\n",
      "709:\tlearn: 0.1908245\ttotal: 7.71s\tremaining: 3.15s\n",
      "710:\tlearn: 0.1905911\ttotal: 7.72s\tremaining: 3.14s\n",
      "711:\tlearn: 0.1905166\ttotal: 7.73s\tremaining: 3.13s\n",
      "712:\tlearn: 0.1904238\ttotal: 7.74s\tremaining: 3.12s\n",
      "713:\tlearn: 0.1903942\ttotal: 7.75s\tremaining: 3.1s\n",
      "714:\tlearn: 0.1903014\ttotal: 7.76s\tremaining: 3.09s\n",
      "715:\tlearn: 0.1902823\ttotal: 7.77s\tremaining: 3.08s\n",
      "716:\tlearn: 0.1901481\ttotal: 7.78s\tremaining: 3.07s\n",
      "717:\tlearn: 0.1900063\ttotal: 7.79s\tremaining: 3.06s\n",
      "718:\tlearn: 0.1899286\ttotal: 7.8s\tremaining: 3.05s\n",
      "719:\tlearn: 0.1899063\ttotal: 7.82s\tremaining: 3.04s\n",
      "720:\tlearn: 0.1897895\ttotal: 7.83s\tremaining: 3.03s\n",
      "721:\tlearn: 0.1897399\ttotal: 7.84s\tremaining: 3.02s\n",
      "722:\tlearn: 0.1896932\ttotal: 7.85s\tremaining: 3.01s\n",
      "723:\tlearn: 0.1896265\ttotal: 7.86s\tremaining: 3s\n",
      "724:\tlearn: 0.1895239\ttotal: 7.87s\tremaining: 2.98s\n",
      "725:\tlearn: 0.1894948\ttotal: 7.88s\tremaining: 2.97s\n",
      "726:\tlearn: 0.1894157\ttotal: 7.89s\tremaining: 2.96s\n",
      "727:\tlearn: 0.1892641\ttotal: 7.9s\tremaining: 2.95s\n",
      "728:\tlearn: 0.1892392\ttotal: 7.91s\tremaining: 2.94s\n",
      "729:\tlearn: 0.1890346\ttotal: 7.92s\tremaining: 2.93s\n",
      "730:\tlearn: 0.1889273\ttotal: 7.93s\tremaining: 2.92s\n",
      "731:\tlearn: 0.1888637\ttotal: 7.94s\tremaining: 2.91s\n",
      "732:\tlearn: 0.1888475\ttotal: 7.96s\tremaining: 2.9s\n",
      "733:\tlearn: 0.1886566\ttotal: 7.96s\tremaining: 2.89s\n",
      "734:\tlearn: 0.1885656\ttotal: 7.98s\tremaining: 2.88s\n",
      "735:\tlearn: 0.1883895\ttotal: 7.99s\tremaining: 2.87s\n",
      "736:\tlearn: 0.1883467\ttotal: 8s\tremaining: 2.85s\n",
      "737:\tlearn: 0.1883032\ttotal: 8.01s\tremaining: 2.84s\n",
      "738:\tlearn: 0.1881845\ttotal: 8.02s\tremaining: 2.83s\n",
      "739:\tlearn: 0.1881165\ttotal: 8.03s\tremaining: 2.82s\n",
      "740:\tlearn: 0.1880504\ttotal: 8.05s\tremaining: 2.81s\n",
      "741:\tlearn: 0.1879032\ttotal: 8.07s\tremaining: 2.81s\n",
      "742:\tlearn: 0.1878071\ttotal: 8.1s\tremaining: 2.8s\n",
      "743:\tlearn: 0.1877335\ttotal: 8.12s\tremaining: 2.79s\n",
      "744:\tlearn: 0.1876851\ttotal: 8.14s\tremaining: 2.79s\n",
      "745:\tlearn: 0.1876661\ttotal: 8.16s\tremaining: 2.78s\n",
      "746:\tlearn: 0.1875777\ttotal: 8.17s\tremaining: 2.77s\n",
      "747:\tlearn: 0.1874252\ttotal: 8.18s\tremaining: 2.76s\n",
      "748:\tlearn: 0.1873801\ttotal: 8.19s\tremaining: 2.75s\n",
      "749:\tlearn: 0.1872614\ttotal: 8.21s\tremaining: 2.73s\n",
      "750:\tlearn: 0.1871743\ttotal: 8.21s\tremaining: 2.72s\n",
      "751:\tlearn: 0.1870285\ttotal: 8.23s\tremaining: 2.71s\n",
      "752:\tlearn: 0.1869245\ttotal: 8.24s\tremaining: 2.7s\n",
      "753:\tlearn: 0.1867013\ttotal: 8.25s\tremaining: 2.69s\n",
      "754:\tlearn: 0.1865793\ttotal: 8.26s\tremaining: 2.68s\n",
      "755:\tlearn: 0.1865029\ttotal: 8.27s\tremaining: 2.67s\n",
      "756:\tlearn: 0.1863556\ttotal: 8.28s\tremaining: 2.66s\n",
      "757:\tlearn: 0.1863291\ttotal: 8.29s\tremaining: 2.65s\n",
      "758:\tlearn: 0.1862363\ttotal: 8.3s\tremaining: 2.63s\n",
      "759:\tlearn: 0.1861927\ttotal: 8.31s\tremaining: 2.62s\n",
      "760:\tlearn: 0.1861501\ttotal: 8.32s\tremaining: 2.61s\n",
      "761:\tlearn: 0.1859982\ttotal: 8.33s\tremaining: 2.6s\n",
      "762:\tlearn: 0.1859340\ttotal: 8.34s\tremaining: 2.59s\n",
      "763:\tlearn: 0.1858639\ttotal: 8.35s\tremaining: 2.58s\n",
      "764:\tlearn: 0.1858294\ttotal: 8.36s\tremaining: 2.57s\n",
      "765:\tlearn: 0.1856757\ttotal: 8.37s\tremaining: 2.56s\n",
      "766:\tlearn: 0.1855335\ttotal: 8.38s\tremaining: 2.55s\n",
      "767:\tlearn: 0.1854455\ttotal: 8.39s\tremaining: 2.54s\n",
      "768:\tlearn: 0.1853792\ttotal: 8.4s\tremaining: 2.52s\n",
      "769:\tlearn: 0.1852786\ttotal: 8.41s\tremaining: 2.51s\n",
      "770:\tlearn: 0.1851009\ttotal: 8.43s\tremaining: 2.5s\n",
      "771:\tlearn: 0.1850041\ttotal: 8.44s\tremaining: 2.49s\n",
      "772:\tlearn: 0.1849459\ttotal: 8.45s\tremaining: 2.48s\n",
      "773:\tlearn: 0.1849205\ttotal: 8.46s\tremaining: 2.47s\n",
      "774:\tlearn: 0.1848922\ttotal: 8.47s\tremaining: 2.46s\n",
      "775:\tlearn: 0.1847894\ttotal: 8.48s\tremaining: 2.45s\n",
      "776:\tlearn: 0.1846909\ttotal: 8.49s\tremaining: 2.44s\n",
      "777:\tlearn: 0.1846784\ttotal: 8.5s\tremaining: 2.43s\n",
      "778:\tlearn: 0.1846506\ttotal: 8.51s\tremaining: 2.42s\n",
      "779:\tlearn: 0.1846068\ttotal: 8.52s\tremaining: 2.4s\n",
      "780:\tlearn: 0.1845572\ttotal: 8.53s\tremaining: 2.39s\n",
      "781:\tlearn: 0.1845107\ttotal: 8.54s\tremaining: 2.38s\n",
      "782:\tlearn: 0.1843968\ttotal: 8.55s\tremaining: 2.37s\n",
      "783:\tlearn: 0.1842823\ttotal: 8.56s\tremaining: 2.36s\n",
      "784:\tlearn: 0.1840624\ttotal: 8.57s\tremaining: 2.35s\n",
      "785:\tlearn: 0.1840152\ttotal: 8.58s\tremaining: 2.34s\n",
      "786:\tlearn: 0.1839218\ttotal: 8.59s\tremaining: 2.33s\n",
      "787:\tlearn: 0.1837768\ttotal: 8.6s\tremaining: 2.31s\n",
      "788:\tlearn: 0.1836380\ttotal: 8.61s\tremaining: 2.3s\n",
      "789:\tlearn: 0.1835942\ttotal: 8.62s\tremaining: 2.29s\n",
      "790:\tlearn: 0.1834785\ttotal: 8.63s\tremaining: 2.28s\n",
      "791:\tlearn: 0.1833093\ttotal: 8.65s\tremaining: 2.27s\n",
      "792:\tlearn: 0.1832383\ttotal: 8.66s\tremaining: 2.26s\n",
      "793:\tlearn: 0.1831909\ttotal: 8.67s\tremaining: 2.25s\n",
      "794:\tlearn: 0.1830766\ttotal: 8.68s\tremaining: 2.24s\n",
      "795:\tlearn: 0.1830313\ttotal: 8.69s\tremaining: 2.23s\n",
      "796:\tlearn: 0.1829010\ttotal: 8.7s\tremaining: 2.22s\n",
      "797:\tlearn: 0.1826622\ttotal: 8.71s\tremaining: 2.2s\n",
      "798:\tlearn: 0.1824464\ttotal: 8.72s\tremaining: 2.19s\n",
      "799:\tlearn: 0.1823392\ttotal: 8.73s\tremaining: 2.18s\n",
      "800:\tlearn: 0.1821955\ttotal: 8.74s\tremaining: 2.17s\n",
      "801:\tlearn: 0.1821449\ttotal: 8.75s\tremaining: 2.16s\n",
      "802:\tlearn: 0.1818714\ttotal: 8.76s\tremaining: 2.15s\n",
      "803:\tlearn: 0.1818604\ttotal: 8.77s\tremaining: 2.14s\n",
      "804:\tlearn: 0.1818044\ttotal: 8.78s\tremaining: 2.13s\n",
      "805:\tlearn: 0.1817609\ttotal: 8.79s\tremaining: 2.12s\n",
      "806:\tlearn: 0.1816653\ttotal: 8.8s\tremaining: 2.1s\n",
      "807:\tlearn: 0.1816408\ttotal: 8.81s\tremaining: 2.09s\n",
      "808:\tlearn: 0.1816144\ttotal: 8.82s\tremaining: 2.08s\n",
      "809:\tlearn: 0.1815417\ttotal: 8.83s\tremaining: 2.07s\n",
      "810:\tlearn: 0.1814582\ttotal: 8.84s\tremaining: 2.06s\n",
      "811:\tlearn: 0.1813934\ttotal: 8.86s\tremaining: 2.05s\n",
      "812:\tlearn: 0.1813814\ttotal: 8.87s\tremaining: 2.04s\n",
      "813:\tlearn: 0.1813692\ttotal: 8.88s\tremaining: 2.03s\n",
      "814:\tlearn: 0.1812994\ttotal: 8.89s\tremaining: 2.02s\n",
      "815:\tlearn: 0.1812724\ttotal: 8.9s\tremaining: 2.01s\n",
      "816:\tlearn: 0.1811358\ttotal: 8.91s\tremaining: 1.99s\n",
      "817:\tlearn: 0.1810108\ttotal: 8.92s\tremaining: 1.98s\n",
      "818:\tlearn: 0.1808933\ttotal: 8.93s\tremaining: 1.97s\n",
      "819:\tlearn: 0.1808506\ttotal: 8.94s\tremaining: 1.96s\n",
      "820:\tlearn: 0.1807692\ttotal: 8.95s\tremaining: 1.95s\n",
      "821:\tlearn: 0.1804848\ttotal: 8.96s\tremaining: 1.94s\n",
      "822:\tlearn: 0.1803899\ttotal: 8.97s\tremaining: 1.93s\n",
      "823:\tlearn: 0.1803656\ttotal: 8.98s\tremaining: 1.92s\n",
      "824:\tlearn: 0.1803064\ttotal: 8.99s\tremaining: 1.91s\n",
      "825:\tlearn: 0.1800959\ttotal: 9s\tremaining: 1.9s\n",
      "826:\tlearn: 0.1800682\ttotal: 9.01s\tremaining: 1.89s\n",
      "827:\tlearn: 0.1800398\ttotal: 9.02s\tremaining: 1.87s\n",
      "828:\tlearn: 0.1799679\ttotal: 9.03s\tremaining: 1.86s\n",
      "829:\tlearn: 0.1799564\ttotal: 9.04s\tremaining: 1.85s\n",
      "830:\tlearn: 0.1799123\ttotal: 9.06s\tremaining: 1.84s\n",
      "831:\tlearn: 0.1798329\ttotal: 9.07s\tremaining: 1.83s\n",
      "832:\tlearn: 0.1797534\ttotal: 9.08s\tremaining: 1.82s\n",
      "833:\tlearn: 0.1796726\ttotal: 9.09s\tremaining: 1.81s\n",
      "834:\tlearn: 0.1794882\ttotal: 9.1s\tremaining: 1.8s\n",
      "835:\tlearn: 0.1793164\ttotal: 9.11s\tremaining: 1.79s\n",
      "836:\tlearn: 0.1793053\ttotal: 9.12s\tremaining: 1.78s\n",
      "837:\tlearn: 0.1791047\ttotal: 9.13s\tremaining: 1.76s\n",
      "838:\tlearn: 0.1790107\ttotal: 9.14s\tremaining: 1.75s\n",
      "839:\tlearn: 0.1789820\ttotal: 9.15s\tremaining: 1.74s\n",
      "840:\tlearn: 0.1789442\ttotal: 9.16s\tremaining: 1.73s\n",
      "841:\tlearn: 0.1788685\ttotal: 9.17s\tremaining: 1.72s\n",
      "842:\tlearn: 0.1788578\ttotal: 9.18s\tremaining: 1.71s\n",
      "843:\tlearn: 0.1787507\ttotal: 9.19s\tremaining: 1.7s\n",
      "844:\tlearn: 0.1786870\ttotal: 9.2s\tremaining: 1.69s\n",
      "845:\tlearn: 0.1785894\ttotal: 9.21s\tremaining: 1.68s\n",
      "846:\tlearn: 0.1784321\ttotal: 9.22s\tremaining: 1.67s\n",
      "847:\tlearn: 0.1783295\ttotal: 9.23s\tremaining: 1.65s\n",
      "848:\tlearn: 0.1782426\ttotal: 9.24s\tremaining: 1.64s\n",
      "849:\tlearn: 0.1781571\ttotal: 9.25s\tremaining: 1.63s\n",
      "850:\tlearn: 0.1780582\ttotal: 9.26s\tremaining: 1.62s\n",
      "851:\tlearn: 0.1779701\ttotal: 9.27s\tremaining: 1.61s\n",
      "852:\tlearn: 0.1778936\ttotal: 9.28s\tremaining: 1.6s\n",
      "853:\tlearn: 0.1777455\ttotal: 9.29s\tremaining: 1.59s\n",
      "854:\tlearn: 0.1776561\ttotal: 9.3s\tremaining: 1.58s\n",
      "855:\tlearn: 0.1776083\ttotal: 9.31s\tremaining: 1.57s\n",
      "856:\tlearn: 0.1775177\ttotal: 9.32s\tremaining: 1.55s\n",
      "857:\tlearn: 0.1774512\ttotal: 9.33s\tremaining: 1.54s\n",
      "858:\tlearn: 0.1773660\ttotal: 9.34s\tremaining: 1.53s\n",
      "859:\tlearn: 0.1773504\ttotal: 9.35s\tremaining: 1.52s\n",
      "860:\tlearn: 0.1772487\ttotal: 9.36s\tremaining: 1.51s\n",
      "861:\tlearn: 0.1771459\ttotal: 9.37s\tremaining: 1.5s\n",
      "862:\tlearn: 0.1770162\ttotal: 9.38s\tremaining: 1.49s\n",
      "863:\tlearn: 0.1767963\ttotal: 9.39s\tremaining: 1.48s\n",
      "864:\tlearn: 0.1767751\ttotal: 9.4s\tremaining: 1.47s\n",
      "865:\tlearn: 0.1766605\ttotal: 9.41s\tremaining: 1.46s\n",
      "866:\tlearn: 0.1765478\ttotal: 9.42s\tremaining: 1.45s\n",
      "867:\tlearn: 0.1764694\ttotal: 9.43s\tremaining: 1.43s\n",
      "868:\tlearn: 0.1764536\ttotal: 9.44s\tremaining: 1.42s\n",
      "869:\tlearn: 0.1763761\ttotal: 9.45s\tremaining: 1.41s\n",
      "870:\tlearn: 0.1763099\ttotal: 9.47s\tremaining: 1.4s\n",
      "871:\tlearn: 0.1762508\ttotal: 9.48s\tremaining: 1.39s\n",
      "872:\tlearn: 0.1761988\ttotal: 9.49s\tremaining: 1.38s\n",
      "873:\tlearn: 0.1760124\ttotal: 9.5s\tremaining: 1.37s\n",
      "874:\tlearn: 0.1758089\ttotal: 9.51s\tremaining: 1.36s\n",
      "875:\tlearn: 0.1757028\ttotal: 9.52s\tremaining: 1.35s\n",
      "876:\tlearn: 0.1756156\ttotal: 9.53s\tremaining: 1.34s\n",
      "877:\tlearn: 0.1754976\ttotal: 9.54s\tremaining: 1.32s\n",
      "878:\tlearn: 0.1752943\ttotal: 9.55s\tremaining: 1.31s\n",
      "879:\tlearn: 0.1752050\ttotal: 9.56s\tremaining: 1.3s\n",
      "880:\tlearn: 0.1751292\ttotal: 9.57s\tremaining: 1.29s\n",
      "881:\tlearn: 0.1750632\ttotal: 9.58s\tremaining: 1.28s\n",
      "882:\tlearn: 0.1749379\ttotal: 9.59s\tremaining: 1.27s\n",
      "883:\tlearn: 0.1747855\ttotal: 9.6s\tremaining: 1.26s\n",
      "884:\tlearn: 0.1745586\ttotal: 9.61s\tremaining: 1.25s\n",
      "885:\tlearn: 0.1745372\ttotal: 9.62s\tremaining: 1.24s\n",
      "886:\tlearn: 0.1744544\ttotal: 9.63s\tremaining: 1.23s\n",
      "887:\tlearn: 0.1743652\ttotal: 9.64s\tremaining: 1.22s\n",
      "888:\tlearn: 0.1741660\ttotal: 9.65s\tremaining: 1.2s\n",
      "889:\tlearn: 0.1741459\ttotal: 9.66s\tremaining: 1.19s\n",
      "890:\tlearn: 0.1741310\ttotal: 9.67s\tremaining: 1.18s\n",
      "891:\tlearn: 0.1740746\ttotal: 9.68s\tremaining: 1.17s\n",
      "892:\tlearn: 0.1740649\ttotal: 9.69s\tremaining: 1.16s\n",
      "893:\tlearn: 0.1740535\ttotal: 9.7s\tremaining: 1.15s\n",
      "894:\tlearn: 0.1739994\ttotal: 9.71s\tremaining: 1.14s\n",
      "895:\tlearn: 0.1738776\ttotal: 9.72s\tremaining: 1.13s\n",
      "896:\tlearn: 0.1738315\ttotal: 9.73s\tremaining: 1.12s\n",
      "897:\tlearn: 0.1737917\ttotal: 9.74s\tremaining: 1.11s\n",
      "898:\tlearn: 0.1736978\ttotal: 9.75s\tremaining: 1.09s\n",
      "899:\tlearn: 0.1735691\ttotal: 9.76s\tremaining: 1.08s\n",
      "900:\tlearn: 0.1734509\ttotal: 9.77s\tremaining: 1.07s\n",
      "901:\tlearn: 0.1733774\ttotal: 9.79s\tremaining: 1.06s\n",
      "902:\tlearn: 0.1733611\ttotal: 9.79s\tremaining: 1.05s\n",
      "903:\tlearn: 0.1733020\ttotal: 9.81s\tremaining: 1.04s\n",
      "904:\tlearn: 0.1732426\ttotal: 9.82s\tremaining: 1.03s\n",
      "905:\tlearn: 0.1731152\ttotal: 9.83s\tremaining: 1.02s\n",
      "906:\tlearn: 0.1730885\ttotal: 9.84s\tremaining: 1.01s\n",
      "907:\tlearn: 0.1729558\ttotal: 9.85s\tremaining: 998ms\n",
      "908:\tlearn: 0.1729180\ttotal: 9.86s\tremaining: 987ms\n",
      "909:\tlearn: 0.1727122\ttotal: 9.87s\tremaining: 976ms\n",
      "910:\tlearn: 0.1726706\ttotal: 9.88s\tremaining: 966ms\n",
      "911:\tlearn: 0.1725592\ttotal: 9.89s\tremaining: 955ms\n",
      "912:\tlearn: 0.1724876\ttotal: 9.9s\tremaining: 944ms\n",
      "913:\tlearn: 0.1724236\ttotal: 9.91s\tremaining: 933ms\n",
      "914:\tlearn: 0.1723625\ttotal: 9.93s\tremaining: 922ms\n",
      "915:\tlearn: 0.1723322\ttotal: 9.94s\tremaining: 911ms\n",
      "916:\tlearn: 0.1722078\ttotal: 9.95s\tremaining: 900ms\n",
      "917:\tlearn: 0.1721663\ttotal: 9.96s\tremaining: 890ms\n",
      "918:\tlearn: 0.1721041\ttotal: 9.97s\tremaining: 879ms\n",
      "919:\tlearn: 0.1720340\ttotal: 9.98s\tremaining: 868ms\n",
      "920:\tlearn: 0.1719607\ttotal: 9.99s\tremaining: 857ms\n",
      "921:\tlearn: 0.1718880\ttotal: 10s\tremaining: 846ms\n",
      "922:\tlearn: 0.1718591\ttotal: 10s\tremaining: 836ms\n",
      "923:\tlearn: 0.1718211\ttotal: 10s\tremaining: 825ms\n",
      "924:\tlearn: 0.1718028\ttotal: 10s\tremaining: 814ms\n",
      "925:\tlearn: 0.1717157\ttotal: 10.1s\tremaining: 803ms\n",
      "926:\tlearn: 0.1716821\ttotal: 10.1s\tremaining: 792ms\n",
      "927:\tlearn: 0.1716396\ttotal: 10.1s\tremaining: 781ms\n",
      "928:\tlearn: 0.1714885\ttotal: 10.1s\tremaining: 771ms\n",
      "929:\tlearn: 0.1713803\ttotal: 10.1s\tremaining: 760ms\n",
      "930:\tlearn: 0.1713528\ttotal: 10.1s\tremaining: 749ms\n",
      "931:\tlearn: 0.1712926\ttotal: 10.1s\tremaining: 738ms\n",
      "932:\tlearn: 0.1712833\ttotal: 10.1s\tremaining: 727ms\n",
      "933:\tlearn: 0.1712056\ttotal: 10.1s\tremaining: 716ms\n",
      "934:\tlearn: 0.1711732\ttotal: 10.1s\tremaining: 705ms\n",
      "935:\tlearn: 0.1709665\ttotal: 10.2s\tremaining: 694ms\n",
      "936:\tlearn: 0.1708812\ttotal: 10.2s\tremaining: 684ms\n",
      "937:\tlearn: 0.1708181\ttotal: 10.2s\tremaining: 673ms\n",
      "938:\tlearn: 0.1707933\ttotal: 10.2s\tremaining: 662ms\n",
      "939:\tlearn: 0.1707687\ttotal: 10.2s\tremaining: 651ms\n",
      "940:\tlearn: 0.1707367\ttotal: 10.2s\tremaining: 640ms\n",
      "941:\tlearn: 0.1705898\ttotal: 10.2s\tremaining: 629ms\n",
      "942:\tlearn: 0.1705590\ttotal: 10.2s\tremaining: 619ms\n",
      "943:\tlearn: 0.1702852\ttotal: 10.2s\tremaining: 608ms\n",
      "944:\tlearn: 0.1701854\ttotal: 10.3s\tremaining: 597ms\n",
      "945:\tlearn: 0.1701101\ttotal: 10.3s\tremaining: 586ms\n",
      "946:\tlearn: 0.1700344\ttotal: 10.3s\tremaining: 575ms\n",
      "947:\tlearn: 0.1699608\ttotal: 10.3s\tremaining: 564ms\n",
      "948:\tlearn: 0.1699217\ttotal: 10.3s\tremaining: 553ms\n",
      "949:\tlearn: 0.1698237\ttotal: 10.3s\tremaining: 543ms\n",
      "950:\tlearn: 0.1698111\ttotal: 10.3s\tremaining: 532ms\n",
      "951:\tlearn: 0.1696287\ttotal: 10.3s\tremaining: 521ms\n",
      "952:\tlearn: 0.1695165\ttotal: 10.3s\tremaining: 510ms\n",
      "953:\tlearn: 0.1694538\ttotal: 10.3s\tremaining: 499ms\n",
      "954:\tlearn: 0.1694365\ttotal: 10.4s\tremaining: 488ms\n",
      "955:\tlearn: 0.1693167\ttotal: 10.4s\tremaining: 477ms\n",
      "956:\tlearn: 0.1692851\ttotal: 10.4s\tremaining: 466ms\n",
      "957:\tlearn: 0.1692488\ttotal: 10.4s\tremaining: 456ms\n",
      "958:\tlearn: 0.1692146\ttotal: 10.4s\tremaining: 445ms\n",
      "959:\tlearn: 0.1691664\ttotal: 10.4s\tremaining: 434ms\n",
      "960:\tlearn: 0.1691452\ttotal: 10.4s\tremaining: 423ms\n",
      "961:\tlearn: 0.1690750\ttotal: 10.4s\tremaining: 412ms\n",
      "962:\tlearn: 0.1689914\ttotal: 10.4s\tremaining: 401ms\n",
      "963:\tlearn: 0.1689627\ttotal: 10.5s\tremaining: 390ms\n",
      "964:\tlearn: 0.1689091\ttotal: 10.5s\tremaining: 379ms\n",
      "965:\tlearn: 0.1689007\ttotal: 10.5s\tremaining: 369ms\n",
      "966:\tlearn: 0.1688478\ttotal: 10.5s\tremaining: 358ms\n",
      "967:\tlearn: 0.1687623\ttotal: 10.5s\tremaining: 347ms\n",
      "968:\tlearn: 0.1687078\ttotal: 10.5s\tremaining: 336ms\n",
      "969:\tlearn: 0.1686570\ttotal: 10.5s\tremaining: 325ms\n",
      "970:\tlearn: 0.1685638\ttotal: 10.5s\tremaining: 314ms\n",
      "971:\tlearn: 0.1685367\ttotal: 10.5s\tremaining: 304ms\n",
      "972:\tlearn: 0.1684714\ttotal: 10.5s\tremaining: 293ms\n",
      "973:\tlearn: 0.1684221\ttotal: 10.6s\tremaining: 282ms\n",
      "974:\tlearn: 0.1683572\ttotal: 10.6s\tremaining: 271ms\n",
      "975:\tlearn: 0.1682687\ttotal: 10.6s\tremaining: 260ms\n",
      "976:\tlearn: 0.1682501\ttotal: 10.6s\tremaining: 249ms\n",
      "977:\tlearn: 0.1682111\ttotal: 10.6s\tremaining: 238ms\n",
      "978:\tlearn: 0.1680965\ttotal: 10.6s\tremaining: 228ms\n",
      "979:\tlearn: 0.1680424\ttotal: 10.6s\tremaining: 217ms\n",
      "980:\tlearn: 0.1678979\ttotal: 10.6s\tremaining: 206ms\n",
      "981:\tlearn: 0.1678362\ttotal: 10.6s\tremaining: 195ms\n",
      "982:\tlearn: 0.1677496\ttotal: 10.7s\tremaining: 184ms\n",
      "983:\tlearn: 0.1677343\ttotal: 10.7s\tremaining: 173ms\n",
      "984:\tlearn: 0.1676607\ttotal: 10.7s\tremaining: 163ms\n",
      "985:\tlearn: 0.1675523\ttotal: 10.7s\tremaining: 152ms\n",
      "986:\tlearn: 0.1674771\ttotal: 10.7s\tremaining: 141ms\n",
      "987:\tlearn: 0.1674000\ttotal: 10.7s\tremaining: 130ms\n",
      "988:\tlearn: 0.1672833\ttotal: 10.7s\tremaining: 119ms\n",
      "989:\tlearn: 0.1672245\ttotal: 10.7s\tremaining: 108ms\n",
      "990:\tlearn: 0.1671924\ttotal: 10.7s\tremaining: 97.5ms\n",
      "991:\tlearn: 0.1671549\ttotal: 10.7s\tremaining: 86.7ms\n",
      "992:\tlearn: 0.1670161\ttotal: 10.8s\tremaining: 75.8ms\n",
      "993:\tlearn: 0.1669406\ttotal: 10.8s\tremaining: 65ms\n",
      "994:\tlearn: 0.1668057\ttotal: 10.8s\tremaining: 54.2ms\n",
      "995:\tlearn: 0.1665876\ttotal: 10.8s\tremaining: 43.3ms\n",
      "996:\tlearn: 0.1665490\ttotal: 10.8s\tremaining: 32.5ms\n",
      "997:\tlearn: 0.1663382\ttotal: 10.8s\tremaining: 21.7ms\n",
      "998:\tlearn: 0.1663300\ttotal: 10.8s\tremaining: 10.8ms\n",
      "999:\tlearn: 0.1661831\ttotal: 10.8s\tremaining: 0us\n"
     ]
    },
    {
     "data": {
      "text/plain": [
       "<catboost.core.CatBoostRegressor at 0x7f35962b1290>"
      ]
     },
     "execution_count": 32,
     "metadata": {},
     "output_type": "execute_result"
    }
   ],
   "source": [
    "cbr.fit(pool_train)"
   ]
  },
  {
   "cell_type": "code",
   "execution_count": 33,
   "id": "c552d762",
   "metadata": {
    "execution": {
     "iopub.execute_input": "2023-01-20T21:42:29.367705Z",
     "iopub.status.busy": "2023-01-20T21:42:29.366907Z",
     "iopub.status.idle": "2023-01-20T21:42:29.382432Z",
     "shell.execute_reply": "2023-01-20T21:42:29.381605Z",
     "shell.execute_reply.started": "2023-01-20T21:40:05.086667Z"
    },
    "papermill": {
     "duration": 0.090102,
     "end_time": "2023-01-20T21:42:29.382571",
     "exception": false,
     "start_time": "2023-01-20T21:42:29.292469",
     "status": "completed"
    },
    "tags": []
   },
   "outputs": [],
   "source": [
    "cbr_pred = cbr.predict(X_val)"
   ]
  },
  {
   "cell_type": "markdown",
   "id": "27747056",
   "metadata": {
    "papermill": {
     "duration": 0.064027,
     "end_time": "2023-01-20T21:42:29.508888",
     "exception": false,
     "start_time": "2023-01-20T21:42:29.444861",
     "status": "completed"
    },
    "tags": []
   },
   "source": [
    "Score for our CBR Model"
   ]
  },
  {
   "cell_type": "code",
   "execution_count": 34,
   "id": "85ad02e6",
   "metadata": {
    "execution": {
     "iopub.execute_input": "2023-01-20T21:42:29.644151Z",
     "iopub.status.busy": "2023-01-20T21:42:29.643201Z",
     "iopub.status.idle": "2023-01-20T21:42:29.647733Z",
     "shell.execute_reply": "2023-01-20T21:42:29.647221Z",
     "shell.execute_reply.started": "2023-01-20T21:40:05.105621Z"
    },
    "papermill": {
     "duration": 0.075068,
     "end_time": "2023-01-20T21:42:29.647865",
     "exception": false,
     "start_time": "2023-01-20T21:42:29.572797",
     "status": "completed"
    },
    "tags": []
   },
   "outputs": [],
   "source": [
    "cbr_score = roc_auc_score(y_val, cbr_pred)"
   ]
  },
  {
   "cell_type": "code",
   "execution_count": 35,
   "id": "08c03e1e",
   "metadata": {
    "execution": {
     "iopub.execute_input": "2023-01-20T21:42:29.788005Z",
     "iopub.status.busy": "2023-01-20T21:42:29.787158Z",
     "iopub.status.idle": "2023-01-20T21:42:29.790077Z",
     "shell.execute_reply": "2023-01-20T21:42:29.790512Z",
     "shell.execute_reply.started": "2023-01-20T21:40:05.114499Z"
    },
    "papermill": {
     "duration": 0.074792,
     "end_time": "2023-01-20T21:42:29.790662",
     "exception": false,
     "start_time": "2023-01-20T21:42:29.715870",
     "status": "completed"
    },
    "tags": []
   },
   "outputs": [
    {
     "data": {
      "text/plain": [
       "0.8496707818930042"
      ]
     },
     "execution_count": 35,
     "metadata": {},
     "output_type": "execute_result"
    }
   ],
   "source": [
    "cbr_score"
   ]
  },
  {
   "cell_type": "markdown",
   "id": "656d924b",
   "metadata": {
    "papermill": {
     "duration": 0.063026,
     "end_time": "2023-01-20T21:42:29.916983",
     "exception": false,
     "start_time": "2023-01-20T21:42:29.853957",
     "status": "completed"
    },
    "tags": []
   },
   "source": [
    "----"
   ]
  },
  {
   "cell_type": "markdown",
   "id": "5a2946c7",
   "metadata": {
    "papermill": {
     "duration": 0.062809,
     "end_time": "2023-01-20T21:42:30.041383",
     "exception": false,
     "start_time": "2023-01-20T21:42:29.978574",
     "status": "completed"
    },
    "tags": []
   },
   "source": [
    "# LightGradientBoostRegressor Model"
   ]
  },
  {
   "cell_type": "markdown",
   "id": "68192428",
   "metadata": {
    "papermill": {
     "duration": 0.066452,
     "end_time": "2023-01-20T21:42:30.172686",
     "exception": false,
     "start_time": "2023-01-20T21:42:30.106234",
     "status": "completed"
    },
    "tags": []
   },
   "source": [
    "Defining Our Train and Target Data"
   ]
  },
  {
   "cell_type": "code",
   "execution_count": 36,
   "id": "2eefd7c3",
   "metadata": {
    "execution": {
     "iopub.execute_input": "2023-01-20T21:42:30.306273Z",
     "iopub.status.busy": "2023-01-20T21:42:30.305557Z",
     "iopub.status.idle": "2023-01-20T21:42:30.309340Z",
     "shell.execute_reply": "2023-01-20T21:42:30.308846Z",
     "shell.execute_reply.started": "2023-01-20T21:40:05.123493Z"
    },
    "papermill": {
     "duration": 0.072517,
     "end_time": "2023-01-20T21:42:30.309475",
     "exception": false,
     "start_time": "2023-01-20T21:42:30.236958",
     "status": "completed"
    },
    "tags": []
   },
   "outputs": [],
   "source": [
    "X = train.drop([\"Attrition\"], axis=1)\n",
    "y = train[\"Attrition\"]"
   ]
  },
  {
   "cell_type": "code",
   "execution_count": 37,
   "id": "aa857507",
   "metadata": {
    "execution": {
     "iopub.execute_input": "2023-01-20T21:42:30.555779Z",
     "iopub.status.busy": "2023-01-20T21:42:30.554952Z",
     "iopub.status.idle": "2023-01-20T21:42:30.560327Z",
     "shell.execute_reply": "2023-01-20T21:42:30.561463Z",
     "shell.execute_reply.started": "2023-01-20T21:40:05.134727Z"
    },
    "papermill": {
     "duration": 0.11751,
     "end_time": "2023-01-20T21:42:30.561671",
     "exception": false,
     "start_time": "2023-01-20T21:42:30.444161",
     "status": "completed"
    },
    "tags": []
   },
   "outputs": [],
   "source": [
    "for column in columns:\n",
    "    X[column] = X[column].astype(\"category\")"
   ]
  },
  {
   "cell_type": "markdown",
   "id": "d3e956db",
   "metadata": {
    "papermill": {
     "duration": 0.096427,
     "end_time": "2023-01-20T21:42:30.753997",
     "exception": false,
     "start_time": "2023-01-20T21:42:30.657570",
     "status": "completed"
    },
    "tags": []
   },
   "source": [
    "Spliting Our Data into Train and Validation Sets"
   ]
  },
  {
   "cell_type": "code",
   "execution_count": 38,
   "id": "aa889811",
   "metadata": {
    "execution": {
     "iopub.execute_input": "2023-01-20T21:42:30.956291Z",
     "iopub.status.busy": "2023-01-20T21:42:30.955512Z",
     "iopub.status.idle": "2023-01-20T21:42:30.961629Z",
     "shell.execute_reply": "2023-01-20T21:42:30.961196Z",
     "shell.execute_reply.started": "2023-01-20T21:40:05.150156Z"
    },
    "papermill": {
     "duration": 0.109437,
     "end_time": "2023-01-20T21:42:30.961753",
     "exception": false,
     "start_time": "2023-01-20T21:42:30.852316",
     "status": "completed"
    },
    "tags": []
   },
   "outputs": [],
   "source": [
    "X_train, X_val, y_train, y_val = train_test_split(X, y, test_size=0.2, random_state=42)"
   ]
  },
  {
   "cell_type": "markdown",
   "id": "8166b7ff",
   "metadata": {
    "papermill": {
     "duration": 0.065156,
     "end_time": "2023-01-20T21:42:31.091289",
     "exception": false,
     "start_time": "2023-01-20T21:42:31.026133",
     "status": "completed"
    },
    "tags": []
   },
   "source": [
    "Defining our LGBR Model"
   ]
  },
  {
   "cell_type": "code",
   "execution_count": 39,
   "id": "d5083249",
   "metadata": {
    "execution": {
     "iopub.execute_input": "2023-01-20T21:42:31.226329Z",
     "iopub.status.busy": "2023-01-20T21:42:31.224589Z",
     "iopub.status.idle": "2023-01-20T21:42:31.227017Z",
     "shell.execute_reply": "2023-01-20T21:42:31.227492Z",
     "shell.execute_reply.started": "2023-01-20T21:40:05.160593Z"
    },
    "papermill": {
     "duration": 0.07181,
     "end_time": "2023-01-20T21:42:31.227648",
     "exception": false,
     "start_time": "2023-01-20T21:42:31.155838",
     "status": "completed"
    },
    "tags": []
   },
   "outputs": [],
   "source": [
    "lgbrm = LGBMRegressor()"
   ]
  },
  {
   "cell_type": "markdown",
   "id": "7da88a4a",
   "metadata": {
    "papermill": {
     "duration": 0.062745,
     "end_time": "2023-01-20T21:42:31.397061",
     "exception": false,
     "start_time": "2023-01-20T21:42:31.334316",
     "status": "completed"
    },
    "tags": []
   },
   "source": [
    "Fitting and Predicting the Data"
   ]
  },
  {
   "cell_type": "code",
   "execution_count": 40,
   "id": "025775a3",
   "metadata": {
    "execution": {
     "iopub.execute_input": "2023-01-20T21:42:31.539162Z",
     "iopub.status.busy": "2023-01-20T21:42:31.538532Z",
     "iopub.status.idle": "2023-01-20T21:42:31.739298Z",
     "shell.execute_reply": "2023-01-20T21:42:31.740255Z",
     "shell.execute_reply.started": "2023-01-20T21:40:05.168278Z"
    },
    "papermill": {
     "duration": 0.278873,
     "end_time": "2023-01-20T21:42:31.740531",
     "exception": false,
     "start_time": "2023-01-20T21:42:31.461658",
     "status": "completed"
    },
    "tags": []
   },
   "outputs": [
    {
     "data": {
      "text/plain": [
       "LGBMRegressor()"
      ]
     },
     "execution_count": 40,
     "metadata": {},
     "output_type": "execute_result"
    }
   ],
   "source": [
    "lgbrm.fit(X_train, y_train)"
   ]
  },
  {
   "cell_type": "code",
   "execution_count": 41,
   "id": "1763822a",
   "metadata": {
    "execution": {
     "iopub.execute_input": "2023-01-20T21:42:31.878515Z",
     "iopub.status.busy": "2023-01-20T21:42:31.877643Z",
     "iopub.status.idle": "2023-01-20T21:42:31.893529Z",
     "shell.execute_reply": "2023-01-20T21:42:31.894003Z",
     "shell.execute_reply.started": "2023-01-20T21:40:05.410781Z"
    },
    "papermill": {
     "duration": 0.08638,
     "end_time": "2023-01-20T21:42:31.894224",
     "exception": false,
     "start_time": "2023-01-20T21:42:31.807844",
     "status": "completed"
    },
    "tags": []
   },
   "outputs": [],
   "source": [
    "lgbrm_pred = lgbrm.predict(X_val)"
   ]
  },
  {
   "cell_type": "markdown",
   "id": "279feac5",
   "metadata": {
    "papermill": {
     "duration": 0.064255,
     "end_time": "2023-01-20T21:42:32.024649",
     "exception": false,
     "start_time": "2023-01-20T21:42:31.960394",
     "status": "completed"
    },
    "tags": []
   },
   "source": [
    "Score for our LGBR Model"
   ]
  },
  {
   "cell_type": "code",
   "execution_count": 42,
   "id": "4021f612",
   "metadata": {
    "execution": {
     "iopub.execute_input": "2023-01-20T21:42:32.164621Z",
     "iopub.status.busy": "2023-01-20T21:42:32.163246Z",
     "iopub.status.idle": "2023-01-20T21:42:32.166295Z",
     "shell.execute_reply": "2023-01-20T21:42:32.165801Z",
     "shell.execute_reply.started": "2023-01-20T21:40:05.435001Z"
    },
    "papermill": {
     "duration": 0.076071,
     "end_time": "2023-01-20T21:42:32.166438",
     "exception": false,
     "start_time": "2023-01-20T21:42:32.090367",
     "status": "completed"
    },
    "tags": []
   },
   "outputs": [],
   "source": [
    "lgbrm_score = roc_auc_score(y_val, lgbrm_pred)"
   ]
  },
  {
   "cell_type": "code",
   "execution_count": 43,
   "id": "2077a2c9",
   "metadata": {
    "execution": {
     "iopub.execute_input": "2023-01-20T21:42:32.297480Z",
     "iopub.status.busy": "2023-01-20T21:42:32.296754Z",
     "iopub.status.idle": "2023-01-20T21:42:32.299683Z",
     "shell.execute_reply": "2023-01-20T21:42:32.300106Z",
     "shell.execute_reply.started": "2023-01-20T21:40:05.442601Z"
    },
    "papermill": {
     "duration": 0.070566,
     "end_time": "2023-01-20T21:42:32.300248",
     "exception": false,
     "start_time": "2023-01-20T21:42:32.229682",
     "status": "completed"
    },
    "tags": []
   },
   "outputs": [
    {
     "data": {
      "text/plain": [
       "0.8108436213991769"
      ]
     },
     "execution_count": 43,
     "metadata": {},
     "output_type": "execute_result"
    }
   ],
   "source": [
    "lgbrm_score"
   ]
  },
  {
   "cell_type": "markdown",
   "id": "3ced9afe",
   "metadata": {
    "papermill": {
     "duration": 0.062194,
     "end_time": "2023-01-20T21:42:32.424794",
     "exception": false,
     "start_time": "2023-01-20T21:42:32.362600",
     "status": "completed"
    },
    "tags": []
   },
   "source": [
    "----"
   ]
  },
  {
   "cell_type": "markdown",
   "id": "f84fdf0e",
   "metadata": {
    "papermill": {
     "duration": 0.063658,
     "end_time": "2023-01-20T21:42:32.550858",
     "exception": false,
     "start_time": "2023-01-20T21:42:32.487200",
     "status": "completed"
    },
    "tags": []
   },
   "source": [
    "# Submissions"
   ]
  },
  {
   "cell_type": "markdown",
   "id": "18c4f55b",
   "metadata": {
    "papermill": {
     "duration": 0.062458,
     "end_time": "2023-01-20T21:42:32.677402",
     "exception": false,
     "start_time": "2023-01-20T21:42:32.614944",
     "status": "completed"
    },
    "tags": []
   },
   "source": [
    "Converting cat_feat list to Categorical Data for Test Data"
   ]
  },
  {
   "cell_type": "code",
   "execution_count": 44,
   "id": "110f4db3",
   "metadata": {
    "execution": {
     "iopub.execute_input": "2023-01-20T21:42:32.813827Z",
     "iopub.status.busy": "2023-01-20T21:42:32.812839Z",
     "iopub.status.idle": "2023-01-20T21:42:32.823474Z",
     "shell.execute_reply": "2023-01-20T21:42:32.822979Z",
     "shell.execute_reply.started": "2023-01-20T21:40:05.452276Z"
    },
    "papermill": {
     "duration": 0.082198,
     "end_time": "2023-01-20T21:42:32.823599",
     "exception": false,
     "start_time": "2023-01-20T21:42:32.741401",
     "status": "completed"
    },
    "tags": []
   },
   "outputs": [],
   "source": [
    "for column in cat_feat:\n",
    "    test[column] = test[column].astype(\"category\")"
   ]
  },
  {
   "cell_type": "markdown",
   "id": "7e40ae09",
   "metadata": {
    "papermill": {
     "duration": 0.064464,
     "end_time": "2023-01-20T21:42:32.952358",
     "exception": false,
     "start_time": "2023-01-20T21:42:32.887894",
     "status": "completed"
    },
    "tags": []
   },
   "source": [
    "Reading Submissions.csv"
   ]
  },
  {
   "cell_type": "code",
   "execution_count": 45,
   "id": "b939c8b6",
   "metadata": {
    "execution": {
     "iopub.execute_input": "2023-01-20T21:42:33.086333Z",
     "iopub.status.busy": "2023-01-20T21:42:33.085577Z",
     "iopub.status.idle": "2023-01-20T21:42:33.095170Z",
     "shell.execute_reply": "2023-01-20T21:42:33.094642Z",
     "shell.execute_reply.started": "2023-01-20T21:40:05.470930Z"
    },
    "papermill": {
     "duration": 0.078968,
     "end_time": "2023-01-20T21:42:33.095305",
     "exception": false,
     "start_time": "2023-01-20T21:42:33.016337",
     "status": "completed"
    },
    "tags": []
   },
   "outputs": [],
   "source": [
    "submission = pd.read_csv(\"/kaggle/input/playground-series-s3e3/sample_submission.csv\", usecols = [\"id\"])"
   ]
  },
  {
   "cell_type": "markdown",
   "id": "9eadc578",
   "metadata": {
    "papermill": {
     "duration": 0.065921,
     "end_time": "2023-01-20T21:42:33.225570",
     "exception": false,
     "start_time": "2023-01-20T21:42:33.159649",
     "status": "completed"
    },
    "tags": []
   },
   "source": [
    "Predicting Test CSV"
   ]
  },
  {
   "cell_type": "code",
   "execution_count": 46,
   "id": "30bead3f",
   "metadata": {
    "execution": {
     "iopub.execute_input": "2023-01-20T21:42:33.365853Z",
     "iopub.status.busy": "2023-01-20T21:42:33.365095Z",
     "iopub.status.idle": "2023-01-20T21:42:33.383012Z",
     "shell.execute_reply": "2023-01-20T21:42:33.382469Z",
     "shell.execute_reply.started": "2023-01-20T21:40:05.486365Z"
    },
    "papermill": {
     "duration": 0.091058,
     "end_time": "2023-01-20T21:42:33.383216",
     "exception": false,
     "start_time": "2023-01-20T21:42:33.292158",
     "status": "completed"
    },
    "tags": []
   },
   "outputs": [],
   "source": [
    "cbr_testpred = cbr.predict(test)"
   ]
  },
  {
   "cell_type": "code",
   "execution_count": 47,
   "id": "fe9e46e9",
   "metadata": {
    "execution": {
     "iopub.execute_input": "2023-01-20T21:42:33.519392Z",
     "iopub.status.busy": "2023-01-20T21:42:33.518737Z",
     "iopub.status.idle": "2023-01-20T21:42:33.522590Z",
     "shell.execute_reply": "2023-01-20T21:42:33.523059Z",
     "shell.execute_reply.started": "2023-01-20T21:40:05.513811Z"
    },
    "papermill": {
     "duration": 0.074896,
     "end_time": "2023-01-20T21:42:33.523219",
     "exception": false,
     "start_time": "2023-01-20T21:42:33.448323",
     "status": "completed"
    },
    "tags": []
   },
   "outputs": [],
   "source": [
    "submission[\"Attrition\"] = cbr_testpred"
   ]
  },
  {
   "cell_type": "markdown",
   "id": "e688a252",
   "metadata": {
    "papermill": {
     "duration": 0.065795,
     "end_time": "2023-01-20T21:42:33.655524",
     "exception": false,
     "start_time": "2023-01-20T21:42:33.589729",
     "status": "completed"
    },
    "tags": []
   },
   "source": [
    "Saving Our Final submission.csv"
   ]
  },
  {
   "cell_type": "code",
   "execution_count": 48,
   "id": "e48194c1",
   "metadata": {
    "execution": {
     "iopub.execute_input": "2023-01-20T21:42:33.788368Z",
     "iopub.status.busy": "2023-01-20T21:42:33.787671Z",
     "iopub.status.idle": "2023-01-20T21:42:33.796078Z",
     "shell.execute_reply": "2023-01-20T21:42:33.795600Z",
     "shell.execute_reply.started": "2023-01-20T21:40:05.523539Z"
    },
    "papermill": {
     "duration": 0.076626,
     "end_time": "2023-01-20T21:42:33.796215",
     "exception": false,
     "start_time": "2023-01-20T21:42:33.719589",
     "status": "completed"
    },
    "tags": []
   },
   "outputs": [],
   "source": [
    "submission.to_csv(\"submission.csv\", index = False)"
   ]
  },
  {
   "cell_type": "markdown",
   "id": "f2513c13",
   "metadata": {
    "papermill": {
     "duration": 0.063346,
     "end_time": "2023-01-20T21:42:33.924511",
     "exception": false,
     "start_time": "2023-01-20T21:42:33.861165",
     "status": "completed"
    },
    "tags": []
   },
   "source": [
    "----"
   ]
  }
 ],
 "metadata": {
  "kernelspec": {
   "display_name": "Python 3",
   "language": "python",
   "name": "python3"
  },
  "language_info": {
   "codemirror_mode": {
    "name": "ipython",
    "version": 3
   },
   "file_extension": ".py",
   "mimetype": "text/x-python",
   "name": "python",
   "nbconvert_exporter": "python",
   "pygments_lexer": "ipython3",
   "version": "3.7.10"
  },
  "papermill": {
   "default_parameters": {},
   "duration": 35.840495,
   "end_time": "2023-01-20T21:42:35.535175",
   "environment_variables": {},
   "exception": null,
   "input_path": "__notebook__.ipynb",
   "output_path": "__notebook__.ipynb",
   "parameters": {},
   "start_time": "2023-01-20T21:41:59.694680",
   "version": "2.3.3"
  }
 },
 "nbformat": 4,
 "nbformat_minor": 5
}
